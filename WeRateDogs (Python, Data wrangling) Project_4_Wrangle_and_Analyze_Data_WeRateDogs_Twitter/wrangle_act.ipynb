{
  "cells": [
    {
      "cell_type": "markdown",
      "metadata": {
        "id": "OHCZNxYYtPng"
      },
      "source": [
        "#Udacity Nanodegree - Project 4\n",
        "####Wrangle and Analyze Data | WeRateDogs Twitter\n",
        "\n",
        "\n",
        "---\n",
        "Project Details\n",
        "\n",
        "The dataset that I will be wrangling (and analyzing and visualizing) tweet archive of Twitter user @dog_rates, also known as WeRateDogs. WeRateDogs is a Twitter account that rates people's dogs with a humorous comment about the dog. These ratings almost always have a denominator of 10. The numerators, though? Almost always greater than 10. 11/10, 12/10, 13/10, etc. Why? Because \"they're good dogs Brent.\" WeRateDogs has over 4 million followers and has received international media coverage.\n",
        "\n",
        "Project Steps Overview\n",
        "Your tasks in this project are as follows:\n",
        "\n",
        "Step 1: Gathering data\n",
        "\n",
        "Step 2: Assessing data\n",
        "\n",
        "Step 3: Cleaning data\n",
        "\n",
        "Step 4: Storing data\n",
        "\n",
        "Step 5: Analyzing, and visualizing data\n",
        "\n",
        "Step 6: Reporting\n",
        "\n",
        "your data wrangling efforts\n",
        "your data analyses and visualizations\n",
        "\n",
        "---\n",
        "\n",
        "\n",
        "\n"
      ]
    },
    {
      "cell_type": "markdown",
      "metadata": {
        "id": "LecUhWduT321"
      },
      "source": [
        "#Introduction & Questions\n",
        "Data comes from 3 main sources, (1) .csv file, (2) stored online (Udacity) (3) Twitter API. Of which i will have to gather, access, clean before proceeding to do analysis\n",
        "\n",
        "---\n",
        "\n",
        "For the sake of this notebook, i will mainly dive into and investigate the following questions :)\n",
        "\n",
        "1.   Visualizing the most popular dog breed?\n",
        "2.   Visualizing the most popular dog names?\n",
        "3.   Which is the common stage?\n",
        "4.   Most used Twitter Source?\n",
        "\n",
        "Tool used: Python & its packages:\n",
        "  \n",
        "1. pandas & numpy packages for the data analysis\n",
        "2. requests, os & json packages for data extraction\n",
        "3. seaborn & matplotlib packages for doing visualization & graphs\n",
        "4. tweepy package Twitter API & defining the keys\n",
        "\n",
        "---\n",
        "\n"
      ]
    },
    {
      "cell_type": "markdown",
      "metadata": {
        "id": "2Q1qu0mS3oW5"
      },
      "source": [
        "**Import Packages**"
      ]
    },
    {
      "cell_type": "code",
      "execution_count": 55,
      "metadata": {
        "colab": {
          "base_uri": "https://localhost:8080/"
        },
        "id": "a7_4JMLy2FMs",
        "outputId": "fd2c75bc-1973-47a2-f1ed-033d7f76a572"
      },
      "outputs": [
        {
          "output_type": "execute_result",
          "data": {
            "text/plain": [
              "<tweepy.api.API at 0x7f32db758a50>"
            ]
          },
          "metadata": {},
          "execution_count": 55
        }
      ],
      "source": [
        "# packages for the data analysis\n",
        "import pandas as pd\n",
        "import numpy as np\n",
        "\n",
        "# packages for data extraction\n",
        "import requests\n",
        "import os\n",
        "import json\n",
        "\n",
        "#packages for doing visualization & graphs\n",
        "import seaborn as sns\n",
        "import matplotlib.pyplot as plt\n",
        "%matplotlib inline\n",
        "\n",
        "#package Twitter API & defining the keys\n",
        "import tweepy\n",
        "\n",
        "consumer_key = 'HIDDEN'\n",
        "consumer_secret = 'HIDDEN'\n",
        "access_token = 'HIDDEN'\n",
        "access_secret = 'HIDDEN'\n",
        "auth = tweepy.OAuthHandler(consumer_key, consumer_secret)\n",
        "auth.set_access_token(access_token, access_secret)\n",
        "api = tweepy.API(auth,wait_on_rate_limit=True,wait_on_rate_limit_notify=True)\n",
        "api"
      ]
    },
    {
      "cell_type": "markdown",
      "metadata": {
        "id": "0PlGjhcnth91"
      },
      "source": [
        "**Step 1: Gathering Data**"
      ]
    },
    {
      "cell_type": "markdown",
      "metadata": {
        "id": "05HJAYZo-wxI"
      },
      "source": [
        "Source: Loading From Downloaded File"
      ]
    },
    {
      "cell_type": "code",
      "execution_count": 56,
      "metadata": {
        "id": "QGe2aAdr2GeH"
      },
      "outputs": [],
      "source": [
        "# 1.1 twitter_archive_enhanced.csv from github\n",
        "url = 'https://raw.githubusercontent.com/bakedbry/udacity/main/twitter-archive-enhanced.csv'\n",
        "twitter_archive = pd.read_csv(url)"
      ]
    },
    {
      "cell_type": "markdown",
      "metadata": {
        "id": "-h8ubT5J-1k6"
      },
      "source": [
        "Source: Downloading Files From The Internet"
      ]
    },
    {
      "cell_type": "code",
      "execution_count": 57,
      "metadata": {
        "colab": {
          "base_uri": "https://localhost:8080/",
          "height": 505
        },
        "id": "ohvZPLnz2RhS",
        "outputId": "13fa62ce-57c3-4dc5-d7ff-23db6a0c083b"
      },
      "outputs": [
        {
          "output_type": "execute_result",
          "data": {
            "text/plain": [
              "                tweet_id                                          jpg_url  \\\n",
              "0     666020888022790149  https://pbs.twimg.com/media/CT4udn0WwAA0aMy.jpg   \n",
              "1     666029285002620928  https://pbs.twimg.com/media/CT42GRgUYAA5iDo.jpg   \n",
              "2     666033412701032449  https://pbs.twimg.com/media/CT4521TWwAEvMyu.jpg   \n",
              "3     666044226329800704  https://pbs.twimg.com/media/CT5Dr8HUEAA-lEu.jpg   \n",
              "4     666049248165822465  https://pbs.twimg.com/media/CT5IQmsXIAAKY4A.jpg   \n",
              "...                  ...                                              ...   \n",
              "2070  891327558926688256  https://pbs.twimg.com/media/DF6hr6BUMAAzZgT.jpg   \n",
              "2071  891689557279858688  https://pbs.twimg.com/media/DF_q7IAWsAEuuN8.jpg   \n",
              "2072  891815181378084864  https://pbs.twimg.com/media/DGBdLU1WsAANxJ9.jpg   \n",
              "2073  892177421306343426  https://pbs.twimg.com/media/DGGmoV4XsAAUL6n.jpg   \n",
              "2074  892420643555336193  https://pbs.twimg.com/media/DGKD1-bXoAAIAUK.jpg   \n",
              "\n",
              "      img_num                      p1   p1_conf  p1_dog                  p2  \\\n",
              "0           1  Welsh_springer_spaniel  0.465074    True              collie   \n",
              "1           1                 redbone  0.506826    True  miniature_pinscher   \n",
              "2           1         German_shepherd  0.596461    True            malinois   \n",
              "3           1     Rhodesian_ridgeback  0.408143    True             redbone   \n",
              "4           1      miniature_pinscher  0.560311    True          Rottweiler   \n",
              "...       ...                     ...       ...     ...                 ...   \n",
              "2070        2                  basset  0.555712    True    English_springer   \n",
              "2071        1             paper_towel  0.170278   False  Labrador_retriever   \n",
              "2072        1               Chihuahua  0.716012    True            malamute   \n",
              "2073        1               Chihuahua  0.323581    True            Pekinese   \n",
              "2074        1                  orange  0.097049   False               bagel   \n",
              "\n",
              "       p2_conf  p2_dog                           p3   p3_conf  p3_dog  \n",
              "0     0.156665    True            Shetland_sheepdog  0.061428    True  \n",
              "1     0.074192    True          Rhodesian_ridgeback  0.072010    True  \n",
              "2     0.138584    True                   bloodhound  0.116197    True  \n",
              "3     0.360687    True           miniature_pinscher  0.222752    True  \n",
              "4     0.243682    True                     Doberman  0.154629    True  \n",
              "...        ...     ...                          ...       ...     ...  \n",
              "2070  0.225770    True  German_short-haired_pointer  0.175219    True  \n",
              "2071  0.168086    True                      spatula  0.040836   False  \n",
              "2072  0.078253    True                       kelpie  0.031379    True  \n",
              "2073  0.090647    True                     papillon  0.068957    True  \n",
              "2074  0.085851   False                       banana  0.076110   False  \n",
              "\n",
              "[2075 rows x 12 columns]"
            ],
            "text/html": [
              "\n",
              "  <div id=\"df-6484c42e-6bea-4bab-96b1-97f8524a8946\">\n",
              "    <div class=\"colab-df-container\">\n",
              "      <div>\n",
              "<style scoped>\n",
              "    .dataframe tbody tr th:only-of-type {\n",
              "        vertical-align: middle;\n",
              "    }\n",
              "\n",
              "    .dataframe tbody tr th {\n",
              "        vertical-align: top;\n",
              "    }\n",
              "\n",
              "    .dataframe thead th {\n",
              "        text-align: right;\n",
              "    }\n",
              "</style>\n",
              "<table border=\"1\" class=\"dataframe\">\n",
              "  <thead>\n",
              "    <tr style=\"text-align: right;\">\n",
              "      <th></th>\n",
              "      <th>tweet_id</th>\n",
              "      <th>jpg_url</th>\n",
              "      <th>img_num</th>\n",
              "      <th>p1</th>\n",
              "      <th>p1_conf</th>\n",
              "      <th>p1_dog</th>\n",
              "      <th>p2</th>\n",
              "      <th>p2_conf</th>\n",
              "      <th>p2_dog</th>\n",
              "      <th>p3</th>\n",
              "      <th>p3_conf</th>\n",
              "      <th>p3_dog</th>\n",
              "    </tr>\n",
              "  </thead>\n",
              "  <tbody>\n",
              "    <tr>\n",
              "      <th>0</th>\n",
              "      <td>666020888022790149</td>\n",
              "      <td>https://pbs.twimg.com/media/CT4udn0WwAA0aMy.jpg</td>\n",
              "      <td>1</td>\n",
              "      <td>Welsh_springer_spaniel</td>\n",
              "      <td>0.465074</td>\n",
              "      <td>True</td>\n",
              "      <td>collie</td>\n",
              "      <td>0.156665</td>\n",
              "      <td>True</td>\n",
              "      <td>Shetland_sheepdog</td>\n",
              "      <td>0.061428</td>\n",
              "      <td>True</td>\n",
              "    </tr>\n",
              "    <tr>\n",
              "      <th>1</th>\n",
              "      <td>666029285002620928</td>\n",
              "      <td>https://pbs.twimg.com/media/CT42GRgUYAA5iDo.jpg</td>\n",
              "      <td>1</td>\n",
              "      <td>redbone</td>\n",
              "      <td>0.506826</td>\n",
              "      <td>True</td>\n",
              "      <td>miniature_pinscher</td>\n",
              "      <td>0.074192</td>\n",
              "      <td>True</td>\n",
              "      <td>Rhodesian_ridgeback</td>\n",
              "      <td>0.072010</td>\n",
              "      <td>True</td>\n",
              "    </tr>\n",
              "    <tr>\n",
              "      <th>2</th>\n",
              "      <td>666033412701032449</td>\n",
              "      <td>https://pbs.twimg.com/media/CT4521TWwAEvMyu.jpg</td>\n",
              "      <td>1</td>\n",
              "      <td>German_shepherd</td>\n",
              "      <td>0.596461</td>\n",
              "      <td>True</td>\n",
              "      <td>malinois</td>\n",
              "      <td>0.138584</td>\n",
              "      <td>True</td>\n",
              "      <td>bloodhound</td>\n",
              "      <td>0.116197</td>\n",
              "      <td>True</td>\n",
              "    </tr>\n",
              "    <tr>\n",
              "      <th>3</th>\n",
              "      <td>666044226329800704</td>\n",
              "      <td>https://pbs.twimg.com/media/CT5Dr8HUEAA-lEu.jpg</td>\n",
              "      <td>1</td>\n",
              "      <td>Rhodesian_ridgeback</td>\n",
              "      <td>0.408143</td>\n",
              "      <td>True</td>\n",
              "      <td>redbone</td>\n",
              "      <td>0.360687</td>\n",
              "      <td>True</td>\n",
              "      <td>miniature_pinscher</td>\n",
              "      <td>0.222752</td>\n",
              "      <td>True</td>\n",
              "    </tr>\n",
              "    <tr>\n",
              "      <th>4</th>\n",
              "      <td>666049248165822465</td>\n",
              "      <td>https://pbs.twimg.com/media/CT5IQmsXIAAKY4A.jpg</td>\n",
              "      <td>1</td>\n",
              "      <td>miniature_pinscher</td>\n",
              "      <td>0.560311</td>\n",
              "      <td>True</td>\n",
              "      <td>Rottweiler</td>\n",
              "      <td>0.243682</td>\n",
              "      <td>True</td>\n",
              "      <td>Doberman</td>\n",
              "      <td>0.154629</td>\n",
              "      <td>True</td>\n",
              "    </tr>\n",
              "    <tr>\n",
              "      <th>...</th>\n",
              "      <td>...</td>\n",
              "      <td>...</td>\n",
              "      <td>...</td>\n",
              "      <td>...</td>\n",
              "      <td>...</td>\n",
              "      <td>...</td>\n",
              "      <td>...</td>\n",
              "      <td>...</td>\n",
              "      <td>...</td>\n",
              "      <td>...</td>\n",
              "      <td>...</td>\n",
              "      <td>...</td>\n",
              "    </tr>\n",
              "    <tr>\n",
              "      <th>2070</th>\n",
              "      <td>891327558926688256</td>\n",
              "      <td>https://pbs.twimg.com/media/DF6hr6BUMAAzZgT.jpg</td>\n",
              "      <td>2</td>\n",
              "      <td>basset</td>\n",
              "      <td>0.555712</td>\n",
              "      <td>True</td>\n",
              "      <td>English_springer</td>\n",
              "      <td>0.225770</td>\n",
              "      <td>True</td>\n",
              "      <td>German_short-haired_pointer</td>\n",
              "      <td>0.175219</td>\n",
              "      <td>True</td>\n",
              "    </tr>\n",
              "    <tr>\n",
              "      <th>2071</th>\n",
              "      <td>891689557279858688</td>\n",
              "      <td>https://pbs.twimg.com/media/DF_q7IAWsAEuuN8.jpg</td>\n",
              "      <td>1</td>\n",
              "      <td>paper_towel</td>\n",
              "      <td>0.170278</td>\n",
              "      <td>False</td>\n",
              "      <td>Labrador_retriever</td>\n",
              "      <td>0.168086</td>\n",
              "      <td>True</td>\n",
              "      <td>spatula</td>\n",
              "      <td>0.040836</td>\n",
              "      <td>False</td>\n",
              "    </tr>\n",
              "    <tr>\n",
              "      <th>2072</th>\n",
              "      <td>891815181378084864</td>\n",
              "      <td>https://pbs.twimg.com/media/DGBdLU1WsAANxJ9.jpg</td>\n",
              "      <td>1</td>\n",
              "      <td>Chihuahua</td>\n",
              "      <td>0.716012</td>\n",
              "      <td>True</td>\n",
              "      <td>malamute</td>\n",
              "      <td>0.078253</td>\n",
              "      <td>True</td>\n",
              "      <td>kelpie</td>\n",
              "      <td>0.031379</td>\n",
              "      <td>True</td>\n",
              "    </tr>\n",
              "    <tr>\n",
              "      <th>2073</th>\n",
              "      <td>892177421306343426</td>\n",
              "      <td>https://pbs.twimg.com/media/DGGmoV4XsAAUL6n.jpg</td>\n",
              "      <td>1</td>\n",
              "      <td>Chihuahua</td>\n",
              "      <td>0.323581</td>\n",
              "      <td>True</td>\n",
              "      <td>Pekinese</td>\n",
              "      <td>0.090647</td>\n",
              "      <td>True</td>\n",
              "      <td>papillon</td>\n",
              "      <td>0.068957</td>\n",
              "      <td>True</td>\n",
              "    </tr>\n",
              "    <tr>\n",
              "      <th>2074</th>\n",
              "      <td>892420643555336193</td>\n",
              "      <td>https://pbs.twimg.com/media/DGKD1-bXoAAIAUK.jpg</td>\n",
              "      <td>1</td>\n",
              "      <td>orange</td>\n",
              "      <td>0.097049</td>\n",
              "      <td>False</td>\n",
              "      <td>bagel</td>\n",
              "      <td>0.085851</td>\n",
              "      <td>False</td>\n",
              "      <td>banana</td>\n",
              "      <td>0.076110</td>\n",
              "      <td>False</td>\n",
              "    </tr>\n",
              "  </tbody>\n",
              "</table>\n",
              "<p>2075 rows × 12 columns</p>\n",
              "</div>\n",
              "      <button class=\"colab-df-convert\" onclick=\"convertToInteractive('df-6484c42e-6bea-4bab-96b1-97f8524a8946')\"\n",
              "              title=\"Convert this dataframe to an interactive table.\"\n",
              "              style=\"display:none;\">\n",
              "        \n",
              "  <svg xmlns=\"http://www.w3.org/2000/svg\" height=\"24px\"viewBox=\"0 0 24 24\"\n",
              "       width=\"24px\">\n",
              "    <path d=\"M0 0h24v24H0V0z\" fill=\"none\"/>\n",
              "    <path d=\"M18.56 5.44l.94 2.06.94-2.06 2.06-.94-2.06-.94-.94-2.06-.94 2.06-2.06.94zm-11 1L8.5 8.5l.94-2.06 2.06-.94-2.06-.94L8.5 2.5l-.94 2.06-2.06.94zm10 10l.94 2.06.94-2.06 2.06-.94-2.06-.94-.94-2.06-.94 2.06-2.06.94z\"/><path d=\"M17.41 7.96l-1.37-1.37c-.4-.4-.92-.59-1.43-.59-.52 0-1.04.2-1.43.59L10.3 9.45l-7.72 7.72c-.78.78-.78 2.05 0 2.83L4 21.41c.39.39.9.59 1.41.59.51 0 1.02-.2 1.41-.59l7.78-7.78 2.81-2.81c.8-.78.8-2.07 0-2.86zM5.41 20L4 18.59l7.72-7.72 1.47 1.35L5.41 20z\"/>\n",
              "  </svg>\n",
              "      </button>\n",
              "      \n",
              "  <style>\n",
              "    .colab-df-container {\n",
              "      display:flex;\n",
              "      flex-wrap:wrap;\n",
              "      gap: 12px;\n",
              "    }\n",
              "\n",
              "    .colab-df-convert {\n",
              "      background-color: #E8F0FE;\n",
              "      border: none;\n",
              "      border-radius: 50%;\n",
              "      cursor: pointer;\n",
              "      display: none;\n",
              "      fill: #1967D2;\n",
              "      height: 32px;\n",
              "      padding: 0 0 0 0;\n",
              "      width: 32px;\n",
              "    }\n",
              "\n",
              "    .colab-df-convert:hover {\n",
              "      background-color: #E2EBFA;\n",
              "      box-shadow: 0px 1px 2px rgba(60, 64, 67, 0.3), 0px 1px 3px 1px rgba(60, 64, 67, 0.15);\n",
              "      fill: #174EA6;\n",
              "    }\n",
              "\n",
              "    [theme=dark] .colab-df-convert {\n",
              "      background-color: #3B4455;\n",
              "      fill: #D2E3FC;\n",
              "    }\n",
              "\n",
              "    [theme=dark] .colab-df-convert:hover {\n",
              "      background-color: #434B5C;\n",
              "      box-shadow: 0px 1px 3px 1px rgba(0, 0, 0, 0.15);\n",
              "      filter: drop-shadow(0px 1px 2px rgba(0, 0, 0, 0.3));\n",
              "      fill: #FFFFFF;\n",
              "    }\n",
              "  </style>\n",
              "\n",
              "      <script>\n",
              "        const buttonEl =\n",
              "          document.querySelector('#df-6484c42e-6bea-4bab-96b1-97f8524a8946 button.colab-df-convert');\n",
              "        buttonEl.style.display =\n",
              "          google.colab.kernel.accessAllowed ? 'block' : 'none';\n",
              "\n",
              "        async function convertToInteractive(key) {\n",
              "          const element = document.querySelector('#df-6484c42e-6bea-4bab-96b1-97f8524a8946');\n",
              "          const dataTable =\n",
              "            await google.colab.kernel.invokeFunction('convertToInteractive',\n",
              "                                                     [key], {});\n",
              "          if (!dataTable) return;\n",
              "\n",
              "          const docLinkHtml = 'Like what you see? Visit the ' +\n",
              "            '<a target=\"_blank\" href=https://colab.research.google.com/notebooks/data_table.ipynb>data table notebook</a>'\n",
              "            + ' to learn more about interactive tables.';\n",
              "          element.innerHTML = '';\n",
              "          dataTable['output_type'] = 'display_data';\n",
              "          await google.colab.output.renderOutput(dataTable, element);\n",
              "          const docLink = document.createElement('div');\n",
              "          docLink.innerHTML = docLinkHtml;\n",
              "          element.appendChild(docLink);\n",
              "        }\n",
              "      </script>\n",
              "    </div>\n",
              "  </div>\n",
              "  "
            ]
          },
          "metadata": {},
          "execution_count": 57
        }
      ],
      "source": [
        "# 1.2 twitter_archive_enhanced.tsv download\n",
        "url = 'https://d17h27t6h515a5.cloudfront.net/topher/2017/August/599fd2ad_image-predictions/image-predictions.tsv'\n",
        "response = requests.get(url)\n",
        "\n",
        "# 1.3 save tsv to file\n",
        "with open(os.path.join('image_predictions.tsv'), mode = 'wb') as file:\n",
        "    file.write(response.content)\n",
        "\n",
        "# 1.4 load tsv into dataframe\n",
        "image_prediction = pd.read_csv(\"image_predictions.tsv\", sep=\"\\t\")\n",
        "image_prediction"
      ]
    },
    {
      "cell_type": "markdown",
      "metadata": {
        "id": "3HzBz8j6_GeL"
      },
      "source": [
        "Source: Tweet JSON API"
      ]
    },
    {
      "cell_type": "code",
      "execution_count": 58,
      "metadata": {
        "id": "ThwGhQr6CWld",
        "colab": {
          "base_uri": "https://localhost:8080/"
        },
        "outputId": "9fd0bb13-1a40-418a-d0d5-104130087076"
      },
      "outputs": [
        {
          "output_type": "stream",
          "name": "stderr",
          "text": [
            "WARNING:tweepy.binder:Rate limit reached. Sleeping for: 770\n",
            "WARNING:tweepy.binder:Rate limit reached. Sleeping for: 771\n"
          ]
        }
      ],
      "source": [
        "# For loop which will add each available tweet to a new line of tweet-json.txt\n",
        "with open('tweet_json.txt', 'a', encoding='utf8') as f:\n",
        "    for tweet_id in twitter_archive['tweet_id']:\n",
        "        try:\n",
        "            tweet = api.get_status(tweet_id, tweet_mode='extended')\n",
        "            json.dump(tweet._json, f)\n",
        "            f.write('\\n')\n",
        "        except:\n",
        "            continue"
      ]
    },
    {
      "cell_type": "code",
      "execution_count": 59,
      "metadata": {
        "id": "GMKkvo4FFmrX"
      },
      "outputs": [],
      "source": [
        " twitter_list = []\n",
        "\n",
        "# Read the .txt file line by line into a list of dictionaries\n",
        "for line in open('tweet_json.txt', 'r'):\n",
        "    twitter_data = json.loads(line)\n",
        "    twitter_list.append({'tweet_id': twitter_data['id_str'],\n",
        "                        'retweet_count': twitter_data['retweet_count'],\n",
        "                        'favorite_count': twitter_data['favorite_count'],\n",
        "                        'followers_count': twitter_data['user']['followers_count']})\n"
      ]
    },
    {
      "cell_type": "code",
      "execution_count": 60,
      "metadata": {
        "id": "Updz_YfrGJ1c"
      },
      "outputs": [],
      "source": [
        "# Convert the list of dictionaries to a pandas DataFrame\n",
        "twitter_data = pd.DataFrame(twitter_list, columns = ['tweet_id', 'retweet_count', 'favorite_count', 'followers_count']) "
      ]
    },
    {
      "cell_type": "code",
      "execution_count": 61,
      "metadata": {
        "colab": {
          "base_uri": "https://localhost:8080/",
          "height": 206
        },
        "id": "QKiKUH6EgUaf",
        "outputId": "0886c87d-ab64-4fac-e623-1b232462b0af"
      },
      "outputs": [
        {
          "output_type": "execute_result",
          "data": {
            "text/plain": [
              "             tweet_id  retweet_count  favorite_count  followers_count\n",
              "0  892420643555336193           6945           33596          9401744\n",
              "1  892177421306343426           5247           29140          9401744\n",
              "2  891815181378084864           3459           21922          9401744\n",
              "3  891689557279858688           7164           36668          9401744\n",
              "4  891327558926688256           7694           35059          9401744"
            ],
            "text/html": [
              "\n",
              "  <div id=\"df-ca4229a8-3b7b-4a91-9048-25a594e50358\">\n",
              "    <div class=\"colab-df-container\">\n",
              "      <div>\n",
              "<style scoped>\n",
              "    .dataframe tbody tr th:only-of-type {\n",
              "        vertical-align: middle;\n",
              "    }\n",
              "\n",
              "    .dataframe tbody tr th {\n",
              "        vertical-align: top;\n",
              "    }\n",
              "\n",
              "    .dataframe thead th {\n",
              "        text-align: right;\n",
              "    }\n",
              "</style>\n",
              "<table border=\"1\" class=\"dataframe\">\n",
              "  <thead>\n",
              "    <tr style=\"text-align: right;\">\n",
              "      <th></th>\n",
              "      <th>tweet_id</th>\n",
              "      <th>retweet_count</th>\n",
              "      <th>favorite_count</th>\n",
              "      <th>followers_count</th>\n",
              "    </tr>\n",
              "  </thead>\n",
              "  <tbody>\n",
              "    <tr>\n",
              "      <th>0</th>\n",
              "      <td>892420643555336193</td>\n",
              "      <td>6945</td>\n",
              "      <td>33596</td>\n",
              "      <td>9401744</td>\n",
              "    </tr>\n",
              "    <tr>\n",
              "      <th>1</th>\n",
              "      <td>892177421306343426</td>\n",
              "      <td>5247</td>\n",
              "      <td>29140</td>\n",
              "      <td>9401744</td>\n",
              "    </tr>\n",
              "    <tr>\n",
              "      <th>2</th>\n",
              "      <td>891815181378084864</td>\n",
              "      <td>3459</td>\n",
              "      <td>21922</td>\n",
              "      <td>9401744</td>\n",
              "    </tr>\n",
              "    <tr>\n",
              "      <th>3</th>\n",
              "      <td>891689557279858688</td>\n",
              "      <td>7164</td>\n",
              "      <td>36668</td>\n",
              "      <td>9401744</td>\n",
              "    </tr>\n",
              "    <tr>\n",
              "      <th>4</th>\n",
              "      <td>891327558926688256</td>\n",
              "      <td>7694</td>\n",
              "      <td>35059</td>\n",
              "      <td>9401744</td>\n",
              "    </tr>\n",
              "  </tbody>\n",
              "</table>\n",
              "</div>\n",
              "      <button class=\"colab-df-convert\" onclick=\"convertToInteractive('df-ca4229a8-3b7b-4a91-9048-25a594e50358')\"\n",
              "              title=\"Convert this dataframe to an interactive table.\"\n",
              "              style=\"display:none;\">\n",
              "        \n",
              "  <svg xmlns=\"http://www.w3.org/2000/svg\" height=\"24px\"viewBox=\"0 0 24 24\"\n",
              "       width=\"24px\">\n",
              "    <path d=\"M0 0h24v24H0V0z\" fill=\"none\"/>\n",
              "    <path d=\"M18.56 5.44l.94 2.06.94-2.06 2.06-.94-2.06-.94-.94-2.06-.94 2.06-2.06.94zm-11 1L8.5 8.5l.94-2.06 2.06-.94-2.06-.94L8.5 2.5l-.94 2.06-2.06.94zm10 10l.94 2.06.94-2.06 2.06-.94-2.06-.94-.94-2.06-.94 2.06-2.06.94z\"/><path d=\"M17.41 7.96l-1.37-1.37c-.4-.4-.92-.59-1.43-.59-.52 0-1.04.2-1.43.59L10.3 9.45l-7.72 7.72c-.78.78-.78 2.05 0 2.83L4 21.41c.39.39.9.59 1.41.59.51 0 1.02-.2 1.41-.59l7.78-7.78 2.81-2.81c.8-.78.8-2.07 0-2.86zM5.41 20L4 18.59l7.72-7.72 1.47 1.35L5.41 20z\"/>\n",
              "  </svg>\n",
              "      </button>\n",
              "      \n",
              "  <style>\n",
              "    .colab-df-container {\n",
              "      display:flex;\n",
              "      flex-wrap:wrap;\n",
              "      gap: 12px;\n",
              "    }\n",
              "\n",
              "    .colab-df-convert {\n",
              "      background-color: #E8F0FE;\n",
              "      border: none;\n",
              "      border-radius: 50%;\n",
              "      cursor: pointer;\n",
              "      display: none;\n",
              "      fill: #1967D2;\n",
              "      height: 32px;\n",
              "      padding: 0 0 0 0;\n",
              "      width: 32px;\n",
              "    }\n",
              "\n",
              "    .colab-df-convert:hover {\n",
              "      background-color: #E2EBFA;\n",
              "      box-shadow: 0px 1px 2px rgba(60, 64, 67, 0.3), 0px 1px 3px 1px rgba(60, 64, 67, 0.15);\n",
              "      fill: #174EA6;\n",
              "    }\n",
              "\n",
              "    [theme=dark] .colab-df-convert {\n",
              "      background-color: #3B4455;\n",
              "      fill: #D2E3FC;\n",
              "    }\n",
              "\n",
              "    [theme=dark] .colab-df-convert:hover {\n",
              "      background-color: #434B5C;\n",
              "      box-shadow: 0px 1px 3px 1px rgba(0, 0, 0, 0.15);\n",
              "      filter: drop-shadow(0px 1px 2px rgba(0, 0, 0, 0.3));\n",
              "      fill: #FFFFFF;\n",
              "    }\n",
              "  </style>\n",
              "\n",
              "      <script>\n",
              "        const buttonEl =\n",
              "          document.querySelector('#df-ca4229a8-3b7b-4a91-9048-25a594e50358 button.colab-df-convert');\n",
              "        buttonEl.style.display =\n",
              "          google.colab.kernel.accessAllowed ? 'block' : 'none';\n",
              "\n",
              "        async function convertToInteractive(key) {\n",
              "          const element = document.querySelector('#df-ca4229a8-3b7b-4a91-9048-25a594e50358');\n",
              "          const dataTable =\n",
              "            await google.colab.kernel.invokeFunction('convertToInteractive',\n",
              "                                                     [key], {});\n",
              "          if (!dataTable) return;\n",
              "\n",
              "          const docLinkHtml = 'Like what you see? Visit the ' +\n",
              "            '<a target=\"_blank\" href=https://colab.research.google.com/notebooks/data_table.ipynb>data table notebook</a>'\n",
              "            + ' to learn more about interactive tables.';\n",
              "          element.innerHTML = '';\n",
              "          dataTable['output_type'] = 'display_data';\n",
              "          await google.colab.output.renderOutput(dataTable, element);\n",
              "          const docLink = document.createElement('div');\n",
              "          docLink.innerHTML = docLinkHtml;\n",
              "          element.appendChild(docLink);\n",
              "        }\n",
              "      </script>\n",
              "    </div>\n",
              "  </div>\n",
              "  "
            ]
          },
          "metadata": {},
          "execution_count": 61
        }
      ],
      "source": [
        "twitter_data.head() "
      ]
    },
    {
      "cell_type": "markdown",
      "metadata": {
        "id": "ckjNVR12kHs6"
      },
      "source": [
        "**Final Gathered Data**\n",
        "\n",
        "*   twitter_archive = .csv file provided by Udacity. This dataset contains \"twitter-archive-enhanced.csv\" \n",
        "*   image_prediction = This dataset will contain information about image predictions. Downloaded from online internet (Udacity).\n",
        "*   twitter_data = This dataset will contain information like tweet_id, no of retweets and no of favorites etc. from API.\n",
        "\n",
        "\n"
      ]
    },
    {
      "cell_type": "markdown",
      "metadata": {
        "id": "vI6PsIDf_K6o"
      },
      "source": [
        "**Step 2: Assessing data**"
      ]
    },
    {
      "cell_type": "markdown",
      "metadata": {
        "id": "xfO4K0w-nV31"
      },
      "source": [
        "Enhanced Twitter Archive (twitter_archive)\n"
      ]
    },
    {
      "cell_type": "code",
      "execution_count": 62,
      "metadata": {
        "colab": {
          "base_uri": "https://localhost:8080/",
          "height": 635
        },
        "id": "tpwCRr2n2R3Y",
        "outputId": "1011fe1d-60bc-473f-e431-8eaa2d8f9956"
      },
      "outputs": [
        {
          "output_type": "execute_result",
          "data": {
            "text/plain": [
              "             tweet_id  in_reply_to_status_id  in_reply_to_user_id  \\\n",
              "0  892420643555336193                    NaN                  NaN   \n",
              "1  892177421306343426                    NaN                  NaN   \n",
              "2  891815181378084864                    NaN                  NaN   \n",
              "3  891689557279858688                    NaN                  NaN   \n",
              "4  891327558926688256                    NaN                  NaN   \n",
              "\n",
              "                   timestamp  \\\n",
              "0  2017-08-01 16:23:56 +0000   \n",
              "1  2017-08-01 00:17:27 +0000   \n",
              "2  2017-07-31 00:18:03 +0000   \n",
              "3  2017-07-30 15:58:51 +0000   \n",
              "4  2017-07-29 16:00:24 +0000   \n",
              "\n",
              "                                              source  \\\n",
              "0  <a href=\"http://twitter.com/download/iphone\" r...   \n",
              "1  <a href=\"http://twitter.com/download/iphone\" r...   \n",
              "2  <a href=\"http://twitter.com/download/iphone\" r...   \n",
              "3  <a href=\"http://twitter.com/download/iphone\" r...   \n",
              "4  <a href=\"http://twitter.com/download/iphone\" r...   \n",
              "\n",
              "                                                text  retweeted_status_id  \\\n",
              "0  This is Phineas. He's a mystical boy. Only eve...                  NaN   \n",
              "1  This is Tilly. She's just checking pup on you....                  NaN   \n",
              "2  This is Archie. He is a rare Norwegian Pouncin...                  NaN   \n",
              "3  This is Darla. She commenced a snooze mid meal...                  NaN   \n",
              "4  This is Franklin. He would like you to stop ca...                  NaN   \n",
              "\n",
              "   retweeted_status_user_id retweeted_status_timestamp  \\\n",
              "0                       NaN                        NaN   \n",
              "1                       NaN                        NaN   \n",
              "2                       NaN                        NaN   \n",
              "3                       NaN                        NaN   \n",
              "4                       NaN                        NaN   \n",
              "\n",
              "                                       expanded_urls  rating_numerator  \\\n",
              "0  https://twitter.com/dog_rates/status/892420643...                13   \n",
              "1  https://twitter.com/dog_rates/status/892177421...                13   \n",
              "2  https://twitter.com/dog_rates/status/891815181...                12   \n",
              "3  https://twitter.com/dog_rates/status/891689557...                13   \n",
              "4  https://twitter.com/dog_rates/status/891327558...                12   \n",
              "\n",
              "   rating_denominator      name doggo floofer pupper puppo  \n",
              "0                  10   Phineas  None    None   None  None  \n",
              "1                  10     Tilly  None    None   None  None  \n",
              "2                  10    Archie  None    None   None  None  \n",
              "3                  10     Darla  None    None   None  None  \n",
              "4                  10  Franklin  None    None   None  None  "
            ],
            "text/html": [
              "\n",
              "  <div id=\"df-beed57f8-52c0-4605-b11f-2e5e827dd9ad\">\n",
              "    <div class=\"colab-df-container\">\n",
              "      <div>\n",
              "<style scoped>\n",
              "    .dataframe tbody tr th:only-of-type {\n",
              "        vertical-align: middle;\n",
              "    }\n",
              "\n",
              "    .dataframe tbody tr th {\n",
              "        vertical-align: top;\n",
              "    }\n",
              "\n",
              "    .dataframe thead th {\n",
              "        text-align: right;\n",
              "    }\n",
              "</style>\n",
              "<table border=\"1\" class=\"dataframe\">\n",
              "  <thead>\n",
              "    <tr style=\"text-align: right;\">\n",
              "      <th></th>\n",
              "      <th>tweet_id</th>\n",
              "      <th>in_reply_to_status_id</th>\n",
              "      <th>in_reply_to_user_id</th>\n",
              "      <th>timestamp</th>\n",
              "      <th>source</th>\n",
              "      <th>text</th>\n",
              "      <th>retweeted_status_id</th>\n",
              "      <th>retweeted_status_user_id</th>\n",
              "      <th>retweeted_status_timestamp</th>\n",
              "      <th>expanded_urls</th>\n",
              "      <th>rating_numerator</th>\n",
              "      <th>rating_denominator</th>\n",
              "      <th>name</th>\n",
              "      <th>doggo</th>\n",
              "      <th>floofer</th>\n",
              "      <th>pupper</th>\n",
              "      <th>puppo</th>\n",
              "    </tr>\n",
              "  </thead>\n",
              "  <tbody>\n",
              "    <tr>\n",
              "      <th>0</th>\n",
              "      <td>892420643555336193</td>\n",
              "      <td>NaN</td>\n",
              "      <td>NaN</td>\n",
              "      <td>2017-08-01 16:23:56 +0000</td>\n",
              "      <td>&lt;a href=\"http://twitter.com/download/iphone\" r...</td>\n",
              "      <td>This is Phineas. He's a mystical boy. Only eve...</td>\n",
              "      <td>NaN</td>\n",
              "      <td>NaN</td>\n",
              "      <td>NaN</td>\n",
              "      <td>https://twitter.com/dog_rates/status/892420643...</td>\n",
              "      <td>13</td>\n",
              "      <td>10</td>\n",
              "      <td>Phineas</td>\n",
              "      <td>None</td>\n",
              "      <td>None</td>\n",
              "      <td>None</td>\n",
              "      <td>None</td>\n",
              "    </tr>\n",
              "    <tr>\n",
              "      <th>1</th>\n",
              "      <td>892177421306343426</td>\n",
              "      <td>NaN</td>\n",
              "      <td>NaN</td>\n",
              "      <td>2017-08-01 00:17:27 +0000</td>\n",
              "      <td>&lt;a href=\"http://twitter.com/download/iphone\" r...</td>\n",
              "      <td>This is Tilly. She's just checking pup on you....</td>\n",
              "      <td>NaN</td>\n",
              "      <td>NaN</td>\n",
              "      <td>NaN</td>\n",
              "      <td>https://twitter.com/dog_rates/status/892177421...</td>\n",
              "      <td>13</td>\n",
              "      <td>10</td>\n",
              "      <td>Tilly</td>\n",
              "      <td>None</td>\n",
              "      <td>None</td>\n",
              "      <td>None</td>\n",
              "      <td>None</td>\n",
              "    </tr>\n",
              "    <tr>\n",
              "      <th>2</th>\n",
              "      <td>891815181378084864</td>\n",
              "      <td>NaN</td>\n",
              "      <td>NaN</td>\n",
              "      <td>2017-07-31 00:18:03 +0000</td>\n",
              "      <td>&lt;a href=\"http://twitter.com/download/iphone\" r...</td>\n",
              "      <td>This is Archie. He is a rare Norwegian Pouncin...</td>\n",
              "      <td>NaN</td>\n",
              "      <td>NaN</td>\n",
              "      <td>NaN</td>\n",
              "      <td>https://twitter.com/dog_rates/status/891815181...</td>\n",
              "      <td>12</td>\n",
              "      <td>10</td>\n",
              "      <td>Archie</td>\n",
              "      <td>None</td>\n",
              "      <td>None</td>\n",
              "      <td>None</td>\n",
              "      <td>None</td>\n",
              "    </tr>\n",
              "    <tr>\n",
              "      <th>3</th>\n",
              "      <td>891689557279858688</td>\n",
              "      <td>NaN</td>\n",
              "      <td>NaN</td>\n",
              "      <td>2017-07-30 15:58:51 +0000</td>\n",
              "      <td>&lt;a href=\"http://twitter.com/download/iphone\" r...</td>\n",
              "      <td>This is Darla. She commenced a snooze mid meal...</td>\n",
              "      <td>NaN</td>\n",
              "      <td>NaN</td>\n",
              "      <td>NaN</td>\n",
              "      <td>https://twitter.com/dog_rates/status/891689557...</td>\n",
              "      <td>13</td>\n",
              "      <td>10</td>\n",
              "      <td>Darla</td>\n",
              "      <td>None</td>\n",
              "      <td>None</td>\n",
              "      <td>None</td>\n",
              "      <td>None</td>\n",
              "    </tr>\n",
              "    <tr>\n",
              "      <th>4</th>\n",
              "      <td>891327558926688256</td>\n",
              "      <td>NaN</td>\n",
              "      <td>NaN</td>\n",
              "      <td>2017-07-29 16:00:24 +0000</td>\n",
              "      <td>&lt;a href=\"http://twitter.com/download/iphone\" r...</td>\n",
              "      <td>This is Franklin. He would like you to stop ca...</td>\n",
              "      <td>NaN</td>\n",
              "      <td>NaN</td>\n",
              "      <td>NaN</td>\n",
              "      <td>https://twitter.com/dog_rates/status/891327558...</td>\n",
              "      <td>12</td>\n",
              "      <td>10</td>\n",
              "      <td>Franklin</td>\n",
              "      <td>None</td>\n",
              "      <td>None</td>\n",
              "      <td>None</td>\n",
              "      <td>None</td>\n",
              "    </tr>\n",
              "  </tbody>\n",
              "</table>\n",
              "</div>\n",
              "      <button class=\"colab-df-convert\" onclick=\"convertToInteractive('df-beed57f8-52c0-4605-b11f-2e5e827dd9ad')\"\n",
              "              title=\"Convert this dataframe to an interactive table.\"\n",
              "              style=\"display:none;\">\n",
              "        \n",
              "  <svg xmlns=\"http://www.w3.org/2000/svg\" height=\"24px\"viewBox=\"0 0 24 24\"\n",
              "       width=\"24px\">\n",
              "    <path d=\"M0 0h24v24H0V0z\" fill=\"none\"/>\n",
              "    <path d=\"M18.56 5.44l.94 2.06.94-2.06 2.06-.94-2.06-.94-.94-2.06-.94 2.06-2.06.94zm-11 1L8.5 8.5l.94-2.06 2.06-.94-2.06-.94L8.5 2.5l-.94 2.06-2.06.94zm10 10l.94 2.06.94-2.06 2.06-.94-2.06-.94-.94-2.06-.94 2.06-2.06.94z\"/><path d=\"M17.41 7.96l-1.37-1.37c-.4-.4-.92-.59-1.43-.59-.52 0-1.04.2-1.43.59L10.3 9.45l-7.72 7.72c-.78.78-.78 2.05 0 2.83L4 21.41c.39.39.9.59 1.41.59.51 0 1.02-.2 1.41-.59l7.78-7.78 2.81-2.81c.8-.78.8-2.07 0-2.86zM5.41 20L4 18.59l7.72-7.72 1.47 1.35L5.41 20z\"/>\n",
              "  </svg>\n",
              "      </button>\n",
              "      \n",
              "  <style>\n",
              "    .colab-df-container {\n",
              "      display:flex;\n",
              "      flex-wrap:wrap;\n",
              "      gap: 12px;\n",
              "    }\n",
              "\n",
              "    .colab-df-convert {\n",
              "      background-color: #E8F0FE;\n",
              "      border: none;\n",
              "      border-radius: 50%;\n",
              "      cursor: pointer;\n",
              "      display: none;\n",
              "      fill: #1967D2;\n",
              "      height: 32px;\n",
              "      padding: 0 0 0 0;\n",
              "      width: 32px;\n",
              "    }\n",
              "\n",
              "    .colab-df-convert:hover {\n",
              "      background-color: #E2EBFA;\n",
              "      box-shadow: 0px 1px 2px rgba(60, 64, 67, 0.3), 0px 1px 3px 1px rgba(60, 64, 67, 0.15);\n",
              "      fill: #174EA6;\n",
              "    }\n",
              "\n",
              "    [theme=dark] .colab-df-convert {\n",
              "      background-color: #3B4455;\n",
              "      fill: #D2E3FC;\n",
              "    }\n",
              "\n",
              "    [theme=dark] .colab-df-convert:hover {\n",
              "      background-color: #434B5C;\n",
              "      box-shadow: 0px 1px 3px 1px rgba(0, 0, 0, 0.15);\n",
              "      filter: drop-shadow(0px 1px 2px rgba(0, 0, 0, 0.3));\n",
              "      fill: #FFFFFF;\n",
              "    }\n",
              "  </style>\n",
              "\n",
              "      <script>\n",
              "        const buttonEl =\n",
              "          document.querySelector('#df-beed57f8-52c0-4605-b11f-2e5e827dd9ad button.colab-df-convert');\n",
              "        buttonEl.style.display =\n",
              "          google.colab.kernel.accessAllowed ? 'block' : 'none';\n",
              "\n",
              "        async function convertToInteractive(key) {\n",
              "          const element = document.querySelector('#df-beed57f8-52c0-4605-b11f-2e5e827dd9ad');\n",
              "          const dataTable =\n",
              "            await google.colab.kernel.invokeFunction('convertToInteractive',\n",
              "                                                     [key], {});\n",
              "          if (!dataTable) return;\n",
              "\n",
              "          const docLinkHtml = 'Like what you see? Visit the ' +\n",
              "            '<a target=\"_blank\" href=https://colab.research.google.com/notebooks/data_table.ipynb>data table notebook</a>'\n",
              "            + ' to learn more about interactive tables.';\n",
              "          element.innerHTML = '';\n",
              "          dataTable['output_type'] = 'display_data';\n",
              "          await google.colab.output.renderOutput(dataTable, element);\n",
              "          const docLink = document.createElement('div');\n",
              "          docLink.innerHTML = docLinkHtml;\n",
              "          element.appendChild(docLink);\n",
              "        }\n",
              "      </script>\n",
              "    </div>\n",
              "  </div>\n",
              "  "
            ]
          },
          "metadata": {},
          "execution_count": 62
        }
      ],
      "source": [
        "# Display the archive_df table\n",
        "twitter_archive.head(5)"
      ]
    },
    {
      "cell_type": "code",
      "execution_count": 63,
      "metadata": {
        "colab": {
          "base_uri": "https://localhost:8080/",
          "height": 300
        },
        "id": "t95hST6G2R5-",
        "outputId": "af9a9861-c88e-4abd-c287-e90b8a9a764a"
      },
      "outputs": [
        {
          "output_type": "execute_result",
          "data": {
            "text/plain": [
              "           tweet_id  in_reply_to_status_id  in_reply_to_user_id  \\\n",
              "count  2.356000e+03           7.800000e+01         7.800000e+01   \n",
              "mean   7.427716e+17           7.455079e+17         2.014171e+16   \n",
              "std    6.856705e+16           7.582492e+16         1.252797e+17   \n",
              "min    6.660209e+17           6.658147e+17         1.185634e+07   \n",
              "25%    6.783989e+17           6.757419e+17         3.086374e+08   \n",
              "50%    7.196279e+17           7.038708e+17         4.196984e+09   \n",
              "75%    7.993373e+17           8.257804e+17         4.196984e+09   \n",
              "max    8.924206e+17           8.862664e+17         8.405479e+17   \n",
              "\n",
              "       retweeted_status_id  retweeted_status_user_id  rating_numerator  \\\n",
              "count         1.810000e+02              1.810000e+02       2356.000000   \n",
              "mean          7.720400e+17              1.241698e+16         13.126486   \n",
              "std           6.236928e+16              9.599254e+16         45.876648   \n",
              "min           6.661041e+17              7.832140e+05          0.000000   \n",
              "25%           7.186315e+17              4.196984e+09         10.000000   \n",
              "50%           7.804657e+17              4.196984e+09         11.000000   \n",
              "75%           8.203146e+17              4.196984e+09         12.000000   \n",
              "max           8.874740e+17              7.874618e+17       1776.000000   \n",
              "\n",
              "       rating_denominator  \n",
              "count         2356.000000  \n",
              "mean            10.455433  \n",
              "std              6.745237  \n",
              "min              0.000000  \n",
              "25%             10.000000  \n",
              "50%             10.000000  \n",
              "75%             10.000000  \n",
              "max            170.000000  "
            ],
            "text/html": [
              "\n",
              "  <div id=\"df-3288fa63-9c49-44ac-a0e8-e0fa7d36bd03\">\n",
              "    <div class=\"colab-df-container\">\n",
              "      <div>\n",
              "<style scoped>\n",
              "    .dataframe tbody tr th:only-of-type {\n",
              "        vertical-align: middle;\n",
              "    }\n",
              "\n",
              "    .dataframe tbody tr th {\n",
              "        vertical-align: top;\n",
              "    }\n",
              "\n",
              "    .dataframe thead th {\n",
              "        text-align: right;\n",
              "    }\n",
              "</style>\n",
              "<table border=\"1\" class=\"dataframe\">\n",
              "  <thead>\n",
              "    <tr style=\"text-align: right;\">\n",
              "      <th></th>\n",
              "      <th>tweet_id</th>\n",
              "      <th>in_reply_to_status_id</th>\n",
              "      <th>in_reply_to_user_id</th>\n",
              "      <th>retweeted_status_id</th>\n",
              "      <th>retweeted_status_user_id</th>\n",
              "      <th>rating_numerator</th>\n",
              "      <th>rating_denominator</th>\n",
              "    </tr>\n",
              "  </thead>\n",
              "  <tbody>\n",
              "    <tr>\n",
              "      <th>count</th>\n",
              "      <td>2.356000e+03</td>\n",
              "      <td>7.800000e+01</td>\n",
              "      <td>7.800000e+01</td>\n",
              "      <td>1.810000e+02</td>\n",
              "      <td>1.810000e+02</td>\n",
              "      <td>2356.000000</td>\n",
              "      <td>2356.000000</td>\n",
              "    </tr>\n",
              "    <tr>\n",
              "      <th>mean</th>\n",
              "      <td>7.427716e+17</td>\n",
              "      <td>7.455079e+17</td>\n",
              "      <td>2.014171e+16</td>\n",
              "      <td>7.720400e+17</td>\n",
              "      <td>1.241698e+16</td>\n",
              "      <td>13.126486</td>\n",
              "      <td>10.455433</td>\n",
              "    </tr>\n",
              "    <tr>\n",
              "      <th>std</th>\n",
              "      <td>6.856705e+16</td>\n",
              "      <td>7.582492e+16</td>\n",
              "      <td>1.252797e+17</td>\n",
              "      <td>6.236928e+16</td>\n",
              "      <td>9.599254e+16</td>\n",
              "      <td>45.876648</td>\n",
              "      <td>6.745237</td>\n",
              "    </tr>\n",
              "    <tr>\n",
              "      <th>min</th>\n",
              "      <td>6.660209e+17</td>\n",
              "      <td>6.658147e+17</td>\n",
              "      <td>1.185634e+07</td>\n",
              "      <td>6.661041e+17</td>\n",
              "      <td>7.832140e+05</td>\n",
              "      <td>0.000000</td>\n",
              "      <td>0.000000</td>\n",
              "    </tr>\n",
              "    <tr>\n",
              "      <th>25%</th>\n",
              "      <td>6.783989e+17</td>\n",
              "      <td>6.757419e+17</td>\n",
              "      <td>3.086374e+08</td>\n",
              "      <td>7.186315e+17</td>\n",
              "      <td>4.196984e+09</td>\n",
              "      <td>10.000000</td>\n",
              "      <td>10.000000</td>\n",
              "    </tr>\n",
              "    <tr>\n",
              "      <th>50%</th>\n",
              "      <td>7.196279e+17</td>\n",
              "      <td>7.038708e+17</td>\n",
              "      <td>4.196984e+09</td>\n",
              "      <td>7.804657e+17</td>\n",
              "      <td>4.196984e+09</td>\n",
              "      <td>11.000000</td>\n",
              "      <td>10.000000</td>\n",
              "    </tr>\n",
              "    <tr>\n",
              "      <th>75%</th>\n",
              "      <td>7.993373e+17</td>\n",
              "      <td>8.257804e+17</td>\n",
              "      <td>4.196984e+09</td>\n",
              "      <td>8.203146e+17</td>\n",
              "      <td>4.196984e+09</td>\n",
              "      <td>12.000000</td>\n",
              "      <td>10.000000</td>\n",
              "    </tr>\n",
              "    <tr>\n",
              "      <th>max</th>\n",
              "      <td>8.924206e+17</td>\n",
              "      <td>8.862664e+17</td>\n",
              "      <td>8.405479e+17</td>\n",
              "      <td>8.874740e+17</td>\n",
              "      <td>7.874618e+17</td>\n",
              "      <td>1776.000000</td>\n",
              "      <td>170.000000</td>\n",
              "    </tr>\n",
              "  </tbody>\n",
              "</table>\n",
              "</div>\n",
              "      <button class=\"colab-df-convert\" onclick=\"convertToInteractive('df-3288fa63-9c49-44ac-a0e8-e0fa7d36bd03')\"\n",
              "              title=\"Convert this dataframe to an interactive table.\"\n",
              "              style=\"display:none;\">\n",
              "        \n",
              "  <svg xmlns=\"http://www.w3.org/2000/svg\" height=\"24px\"viewBox=\"0 0 24 24\"\n",
              "       width=\"24px\">\n",
              "    <path d=\"M0 0h24v24H0V0z\" fill=\"none\"/>\n",
              "    <path d=\"M18.56 5.44l.94 2.06.94-2.06 2.06-.94-2.06-.94-.94-2.06-.94 2.06-2.06.94zm-11 1L8.5 8.5l.94-2.06 2.06-.94-2.06-.94L8.5 2.5l-.94 2.06-2.06.94zm10 10l.94 2.06.94-2.06 2.06-.94-2.06-.94-.94-2.06-.94 2.06-2.06.94z\"/><path d=\"M17.41 7.96l-1.37-1.37c-.4-.4-.92-.59-1.43-.59-.52 0-1.04.2-1.43.59L10.3 9.45l-7.72 7.72c-.78.78-.78 2.05 0 2.83L4 21.41c.39.39.9.59 1.41.59.51 0 1.02-.2 1.41-.59l7.78-7.78 2.81-2.81c.8-.78.8-2.07 0-2.86zM5.41 20L4 18.59l7.72-7.72 1.47 1.35L5.41 20z\"/>\n",
              "  </svg>\n",
              "      </button>\n",
              "      \n",
              "  <style>\n",
              "    .colab-df-container {\n",
              "      display:flex;\n",
              "      flex-wrap:wrap;\n",
              "      gap: 12px;\n",
              "    }\n",
              "\n",
              "    .colab-df-convert {\n",
              "      background-color: #E8F0FE;\n",
              "      border: none;\n",
              "      border-radius: 50%;\n",
              "      cursor: pointer;\n",
              "      display: none;\n",
              "      fill: #1967D2;\n",
              "      height: 32px;\n",
              "      padding: 0 0 0 0;\n",
              "      width: 32px;\n",
              "    }\n",
              "\n",
              "    .colab-df-convert:hover {\n",
              "      background-color: #E2EBFA;\n",
              "      box-shadow: 0px 1px 2px rgba(60, 64, 67, 0.3), 0px 1px 3px 1px rgba(60, 64, 67, 0.15);\n",
              "      fill: #174EA6;\n",
              "    }\n",
              "\n",
              "    [theme=dark] .colab-df-convert {\n",
              "      background-color: #3B4455;\n",
              "      fill: #D2E3FC;\n",
              "    }\n",
              "\n",
              "    [theme=dark] .colab-df-convert:hover {\n",
              "      background-color: #434B5C;\n",
              "      box-shadow: 0px 1px 3px 1px rgba(0, 0, 0, 0.15);\n",
              "      filter: drop-shadow(0px 1px 2px rgba(0, 0, 0, 0.3));\n",
              "      fill: #FFFFFF;\n",
              "    }\n",
              "  </style>\n",
              "\n",
              "      <script>\n",
              "        const buttonEl =\n",
              "          document.querySelector('#df-3288fa63-9c49-44ac-a0e8-e0fa7d36bd03 button.colab-df-convert');\n",
              "        buttonEl.style.display =\n",
              "          google.colab.kernel.accessAllowed ? 'block' : 'none';\n",
              "\n",
              "        async function convertToInteractive(key) {\n",
              "          const element = document.querySelector('#df-3288fa63-9c49-44ac-a0e8-e0fa7d36bd03');\n",
              "          const dataTable =\n",
              "            await google.colab.kernel.invokeFunction('convertToInteractive',\n",
              "                                                     [key], {});\n",
              "          if (!dataTable) return;\n",
              "\n",
              "          const docLinkHtml = 'Like what you see? Visit the ' +\n",
              "            '<a target=\"_blank\" href=https://colab.research.google.com/notebooks/data_table.ipynb>data table notebook</a>'\n",
              "            + ' to learn more about interactive tables.';\n",
              "          element.innerHTML = '';\n",
              "          dataTable['output_type'] = 'display_data';\n",
              "          await google.colab.output.renderOutput(dataTable, element);\n",
              "          const docLink = document.createElement('div');\n",
              "          docLink.innerHTML = docLinkHtml;\n",
              "          element.appendChild(docLink);\n",
              "        }\n",
              "      </script>\n",
              "    </div>\n",
              "  </div>\n",
              "  "
            ]
          },
          "metadata": {},
          "execution_count": 63
        }
      ],
      "source": [
        "#Checking the descriptive statistics \n",
        "twitter_archive.describe()"
      ]
    },
    {
      "cell_type": "code",
      "execution_count": 64,
      "metadata": {
        "colab": {
          "base_uri": "https://localhost:8080/"
        },
        "id": "J8TZfhUanZaN",
        "outputId": "6b52aa8c-6dff-4538-da1e-e81b14396a3a"
      },
      "outputs": [
        {
          "output_type": "stream",
          "name": "stdout",
          "text": [
            "<class 'pandas.core.frame.DataFrame'>\n",
            "RangeIndex: 2356 entries, 0 to 2355\n",
            "Data columns (total 17 columns):\n",
            " #   Column                      Non-Null Count  Dtype  \n",
            "---  ------                      --------------  -----  \n",
            " 0   tweet_id                    2356 non-null   int64  \n",
            " 1   in_reply_to_status_id       78 non-null     float64\n",
            " 2   in_reply_to_user_id         78 non-null     float64\n",
            " 3   timestamp                   2356 non-null   object \n",
            " 4   source                      2356 non-null   object \n",
            " 5   text                        2356 non-null   object \n",
            " 6   retweeted_status_id         181 non-null    float64\n",
            " 7   retweeted_status_user_id    181 non-null    float64\n",
            " 8   retweeted_status_timestamp  181 non-null    object \n",
            " 9   expanded_urls               2297 non-null   object \n",
            " 10  rating_numerator            2356 non-null   int64  \n",
            " 11  rating_denominator          2356 non-null   int64  \n",
            " 12  name                        2356 non-null   object \n",
            " 13  doggo                       2356 non-null   object \n",
            " 14  floofer                     2356 non-null   object \n",
            " 15  pupper                      2356 non-null   object \n",
            " 16  puppo                       2356 non-null   object \n",
            "dtypes: float64(4), int64(3), object(10)\n",
            "memory usage: 313.0+ KB\n"
          ]
        }
      ],
      "source": [
        "#Checking datatypes\n",
        "twitter_archive.info()"
      ]
    },
    {
      "cell_type": "code",
      "execution_count": 65,
      "metadata": {
        "colab": {
          "base_uri": "https://localhost:8080/"
        },
        "id": "RvXx82QunZe0",
        "outputId": "4c3d9151-9813-4cc1-8705-cbd046ae5654"
      },
      "outputs": [
        {
          "output_type": "execute_result",
          "data": {
            "text/plain": [
              "tweet_id                         0\n",
              "in_reply_to_status_id         2278\n",
              "in_reply_to_user_id           2278\n",
              "timestamp                        0\n",
              "source                           0\n",
              "text                             0\n",
              "retweeted_status_id           2175\n",
              "retweeted_status_user_id      2175\n",
              "retweeted_status_timestamp    2175\n",
              "expanded_urls                   59\n",
              "rating_numerator                 0\n",
              "rating_denominator               0\n",
              "name                             0\n",
              "doggo                            0\n",
              "floofer                          0\n",
              "pupper                           0\n",
              "puppo                            0\n",
              "dtype: int64"
            ]
          },
          "metadata": {},
          "execution_count": 65
        }
      ],
      "source": [
        "#checking null values\n",
        "twitter_archive.isnull().sum()"
      ]
    },
    {
      "cell_type": "code",
      "execution_count": 66,
      "metadata": {
        "colab": {
          "base_uri": "https://localhost:8080/",
          "height": 113
        },
        "id": "LkC38mvlnZkz",
        "outputId": "f3acc2b4-8d23-4816-d3f7-77ee698e3084"
      },
      "outputs": [
        {
          "output_type": "execute_result",
          "data": {
            "text/plain": [
              "Empty DataFrame\n",
              "Columns: [tweet_id, in_reply_to_status_id, in_reply_to_user_id, timestamp, source, text, retweeted_status_id, retweeted_status_user_id, retweeted_status_timestamp, expanded_urls, rating_numerator, rating_denominator, name, doggo, floofer, pupper, puppo]\n",
              "Index: []"
            ],
            "text/html": [
              "\n",
              "  <div id=\"df-df71d3a9-ae05-4a21-9743-1ae89a1c078e\">\n",
              "    <div class=\"colab-df-container\">\n",
              "      <div>\n",
              "<style scoped>\n",
              "    .dataframe tbody tr th:only-of-type {\n",
              "        vertical-align: middle;\n",
              "    }\n",
              "\n",
              "    .dataframe tbody tr th {\n",
              "        vertical-align: top;\n",
              "    }\n",
              "\n",
              "    .dataframe thead th {\n",
              "        text-align: right;\n",
              "    }\n",
              "</style>\n",
              "<table border=\"1\" class=\"dataframe\">\n",
              "  <thead>\n",
              "    <tr style=\"text-align: right;\">\n",
              "      <th></th>\n",
              "      <th>tweet_id</th>\n",
              "      <th>in_reply_to_status_id</th>\n",
              "      <th>in_reply_to_user_id</th>\n",
              "      <th>timestamp</th>\n",
              "      <th>source</th>\n",
              "      <th>text</th>\n",
              "      <th>retweeted_status_id</th>\n",
              "      <th>retweeted_status_user_id</th>\n",
              "      <th>retweeted_status_timestamp</th>\n",
              "      <th>expanded_urls</th>\n",
              "      <th>rating_numerator</th>\n",
              "      <th>rating_denominator</th>\n",
              "      <th>name</th>\n",
              "      <th>doggo</th>\n",
              "      <th>floofer</th>\n",
              "      <th>pupper</th>\n",
              "      <th>puppo</th>\n",
              "    </tr>\n",
              "  </thead>\n",
              "  <tbody>\n",
              "  </tbody>\n",
              "</table>\n",
              "</div>\n",
              "      <button class=\"colab-df-convert\" onclick=\"convertToInteractive('df-df71d3a9-ae05-4a21-9743-1ae89a1c078e')\"\n",
              "              title=\"Convert this dataframe to an interactive table.\"\n",
              "              style=\"display:none;\">\n",
              "        \n",
              "  <svg xmlns=\"http://www.w3.org/2000/svg\" height=\"24px\"viewBox=\"0 0 24 24\"\n",
              "       width=\"24px\">\n",
              "    <path d=\"M0 0h24v24H0V0z\" fill=\"none\"/>\n",
              "    <path d=\"M18.56 5.44l.94 2.06.94-2.06 2.06-.94-2.06-.94-.94-2.06-.94 2.06-2.06.94zm-11 1L8.5 8.5l.94-2.06 2.06-.94-2.06-.94L8.5 2.5l-.94 2.06-2.06.94zm10 10l.94 2.06.94-2.06 2.06-.94-2.06-.94-.94-2.06-.94 2.06-2.06.94z\"/><path d=\"M17.41 7.96l-1.37-1.37c-.4-.4-.92-.59-1.43-.59-.52 0-1.04.2-1.43.59L10.3 9.45l-7.72 7.72c-.78.78-.78 2.05 0 2.83L4 21.41c.39.39.9.59 1.41.59.51 0 1.02-.2 1.41-.59l7.78-7.78 2.81-2.81c.8-.78.8-2.07 0-2.86zM5.41 20L4 18.59l7.72-7.72 1.47 1.35L5.41 20z\"/>\n",
              "  </svg>\n",
              "      </button>\n",
              "      \n",
              "  <style>\n",
              "    .colab-df-container {\n",
              "      display:flex;\n",
              "      flex-wrap:wrap;\n",
              "      gap: 12px;\n",
              "    }\n",
              "\n",
              "    .colab-df-convert {\n",
              "      background-color: #E8F0FE;\n",
              "      border: none;\n",
              "      border-radius: 50%;\n",
              "      cursor: pointer;\n",
              "      display: none;\n",
              "      fill: #1967D2;\n",
              "      height: 32px;\n",
              "      padding: 0 0 0 0;\n",
              "      width: 32px;\n",
              "    }\n",
              "\n",
              "    .colab-df-convert:hover {\n",
              "      background-color: #E2EBFA;\n",
              "      box-shadow: 0px 1px 2px rgba(60, 64, 67, 0.3), 0px 1px 3px 1px rgba(60, 64, 67, 0.15);\n",
              "      fill: #174EA6;\n",
              "    }\n",
              "\n",
              "    [theme=dark] .colab-df-convert {\n",
              "      background-color: #3B4455;\n",
              "      fill: #D2E3FC;\n",
              "    }\n",
              "\n",
              "    [theme=dark] .colab-df-convert:hover {\n",
              "      background-color: #434B5C;\n",
              "      box-shadow: 0px 1px 3px 1px rgba(0, 0, 0, 0.15);\n",
              "      filter: drop-shadow(0px 1px 2px rgba(0, 0, 0, 0.3));\n",
              "      fill: #FFFFFF;\n",
              "    }\n",
              "  </style>\n",
              "\n",
              "      <script>\n",
              "        const buttonEl =\n",
              "          document.querySelector('#df-df71d3a9-ae05-4a21-9743-1ae89a1c078e button.colab-df-convert');\n",
              "        buttonEl.style.display =\n",
              "          google.colab.kernel.accessAllowed ? 'block' : 'none';\n",
              "\n",
              "        async function convertToInteractive(key) {\n",
              "          const element = document.querySelector('#df-df71d3a9-ae05-4a21-9743-1ae89a1c078e');\n",
              "          const dataTable =\n",
              "            await google.colab.kernel.invokeFunction('convertToInteractive',\n",
              "                                                     [key], {});\n",
              "          if (!dataTable) return;\n",
              "\n",
              "          const docLinkHtml = 'Like what you see? Visit the ' +\n",
              "            '<a target=\"_blank\" href=https://colab.research.google.com/notebooks/data_table.ipynb>data table notebook</a>'\n",
              "            + ' to learn more about interactive tables.';\n",
              "          element.innerHTML = '';\n",
              "          dataTable['output_type'] = 'display_data';\n",
              "          await google.colab.output.renderOutput(dataTable, element);\n",
              "          const docLink = document.createElement('div');\n",
              "          docLink.innerHTML = docLinkHtml;\n",
              "          element.appendChild(docLink);\n",
              "        }\n",
              "      </script>\n",
              "    </div>\n",
              "  </div>\n",
              "  "
            ]
          },
          "metadata": {},
          "execution_count": 66
        }
      ],
      "source": [
        "#Checking for duplicates\n",
        "twitter_archive[twitter_archive.tweet_id.duplicated()]"
      ]
    },
    {
      "cell_type": "markdown",
      "metadata": {
        "id": "Vk3-BH9YzriG"
      },
      "source": [
        "Twitter API Data (twitter_data)"
      ]
    },
    {
      "cell_type": "code",
      "execution_count": 67,
      "metadata": {
        "colab": {
          "base_uri": "https://localhost:8080/",
          "height": 206
        },
        "id": "sybcAZ6HnZqj",
        "outputId": "0d71697f-cdfa-4f51-b298-f950b5d00b1c"
      },
      "outputs": [
        {
          "output_type": "execute_result",
          "data": {
            "text/plain": [
              "             tweet_id  retweet_count  favorite_count  followers_count\n",
              "0  892420643555336193           6945           33596          9401744\n",
              "1  892177421306343426           5247           29140          9401744\n",
              "2  891815181378084864           3459           21922          9401744\n",
              "3  891689557279858688           7164           36668          9401744\n",
              "4  891327558926688256           7694           35059          9401744"
            ],
            "text/html": [
              "\n",
              "  <div id=\"df-ddd488a7-9404-46b3-a00e-3aaf3b683525\">\n",
              "    <div class=\"colab-df-container\">\n",
              "      <div>\n",
              "<style scoped>\n",
              "    .dataframe tbody tr th:only-of-type {\n",
              "        vertical-align: middle;\n",
              "    }\n",
              "\n",
              "    .dataframe tbody tr th {\n",
              "        vertical-align: top;\n",
              "    }\n",
              "\n",
              "    .dataframe thead th {\n",
              "        text-align: right;\n",
              "    }\n",
              "</style>\n",
              "<table border=\"1\" class=\"dataframe\">\n",
              "  <thead>\n",
              "    <tr style=\"text-align: right;\">\n",
              "      <th></th>\n",
              "      <th>tweet_id</th>\n",
              "      <th>retweet_count</th>\n",
              "      <th>favorite_count</th>\n",
              "      <th>followers_count</th>\n",
              "    </tr>\n",
              "  </thead>\n",
              "  <tbody>\n",
              "    <tr>\n",
              "      <th>0</th>\n",
              "      <td>892420643555336193</td>\n",
              "      <td>6945</td>\n",
              "      <td>33596</td>\n",
              "      <td>9401744</td>\n",
              "    </tr>\n",
              "    <tr>\n",
              "      <th>1</th>\n",
              "      <td>892177421306343426</td>\n",
              "      <td>5247</td>\n",
              "      <td>29140</td>\n",
              "      <td>9401744</td>\n",
              "    </tr>\n",
              "    <tr>\n",
              "      <th>2</th>\n",
              "      <td>891815181378084864</td>\n",
              "      <td>3459</td>\n",
              "      <td>21922</td>\n",
              "      <td>9401744</td>\n",
              "    </tr>\n",
              "    <tr>\n",
              "      <th>3</th>\n",
              "      <td>891689557279858688</td>\n",
              "      <td>7164</td>\n",
              "      <td>36668</td>\n",
              "      <td>9401744</td>\n",
              "    </tr>\n",
              "    <tr>\n",
              "      <th>4</th>\n",
              "      <td>891327558926688256</td>\n",
              "      <td>7694</td>\n",
              "      <td>35059</td>\n",
              "      <td>9401744</td>\n",
              "    </tr>\n",
              "  </tbody>\n",
              "</table>\n",
              "</div>\n",
              "      <button class=\"colab-df-convert\" onclick=\"convertToInteractive('df-ddd488a7-9404-46b3-a00e-3aaf3b683525')\"\n",
              "              title=\"Convert this dataframe to an interactive table.\"\n",
              "              style=\"display:none;\">\n",
              "        \n",
              "  <svg xmlns=\"http://www.w3.org/2000/svg\" height=\"24px\"viewBox=\"0 0 24 24\"\n",
              "       width=\"24px\">\n",
              "    <path d=\"M0 0h24v24H0V0z\" fill=\"none\"/>\n",
              "    <path d=\"M18.56 5.44l.94 2.06.94-2.06 2.06-.94-2.06-.94-.94-2.06-.94 2.06-2.06.94zm-11 1L8.5 8.5l.94-2.06 2.06-.94-2.06-.94L8.5 2.5l-.94 2.06-2.06.94zm10 10l.94 2.06.94-2.06 2.06-.94-2.06-.94-.94-2.06-.94 2.06-2.06.94z\"/><path d=\"M17.41 7.96l-1.37-1.37c-.4-.4-.92-.59-1.43-.59-.52 0-1.04.2-1.43.59L10.3 9.45l-7.72 7.72c-.78.78-.78 2.05 0 2.83L4 21.41c.39.39.9.59 1.41.59.51 0 1.02-.2 1.41-.59l7.78-7.78 2.81-2.81c.8-.78.8-2.07 0-2.86zM5.41 20L4 18.59l7.72-7.72 1.47 1.35L5.41 20z\"/>\n",
              "  </svg>\n",
              "      </button>\n",
              "      \n",
              "  <style>\n",
              "    .colab-df-container {\n",
              "      display:flex;\n",
              "      flex-wrap:wrap;\n",
              "      gap: 12px;\n",
              "    }\n",
              "\n",
              "    .colab-df-convert {\n",
              "      background-color: #E8F0FE;\n",
              "      border: none;\n",
              "      border-radius: 50%;\n",
              "      cursor: pointer;\n",
              "      display: none;\n",
              "      fill: #1967D2;\n",
              "      height: 32px;\n",
              "      padding: 0 0 0 0;\n",
              "      width: 32px;\n",
              "    }\n",
              "\n",
              "    .colab-df-convert:hover {\n",
              "      background-color: #E2EBFA;\n",
              "      box-shadow: 0px 1px 2px rgba(60, 64, 67, 0.3), 0px 1px 3px 1px rgba(60, 64, 67, 0.15);\n",
              "      fill: #174EA6;\n",
              "    }\n",
              "\n",
              "    [theme=dark] .colab-df-convert {\n",
              "      background-color: #3B4455;\n",
              "      fill: #D2E3FC;\n",
              "    }\n",
              "\n",
              "    [theme=dark] .colab-df-convert:hover {\n",
              "      background-color: #434B5C;\n",
              "      box-shadow: 0px 1px 3px 1px rgba(0, 0, 0, 0.15);\n",
              "      filter: drop-shadow(0px 1px 2px rgba(0, 0, 0, 0.3));\n",
              "      fill: #FFFFFF;\n",
              "    }\n",
              "  </style>\n",
              "\n",
              "      <script>\n",
              "        const buttonEl =\n",
              "          document.querySelector('#df-ddd488a7-9404-46b3-a00e-3aaf3b683525 button.colab-df-convert');\n",
              "        buttonEl.style.display =\n",
              "          google.colab.kernel.accessAllowed ? 'block' : 'none';\n",
              "\n",
              "        async function convertToInteractive(key) {\n",
              "          const element = document.querySelector('#df-ddd488a7-9404-46b3-a00e-3aaf3b683525');\n",
              "          const dataTable =\n",
              "            await google.colab.kernel.invokeFunction('convertToInteractive',\n",
              "                                                     [key], {});\n",
              "          if (!dataTable) return;\n",
              "\n",
              "          const docLinkHtml = 'Like what you see? Visit the ' +\n",
              "            '<a target=\"_blank\" href=https://colab.research.google.com/notebooks/data_table.ipynb>data table notebook</a>'\n",
              "            + ' to learn more about interactive tables.';\n",
              "          element.innerHTML = '';\n",
              "          dataTable['output_type'] = 'display_data';\n",
              "          await google.colab.output.renderOutput(dataTable, element);\n",
              "          const docLink = document.createElement('div');\n",
              "          docLink.innerHTML = docLinkHtml;\n",
              "          element.appendChild(docLink);\n",
              "        }\n",
              "      </script>\n",
              "    </div>\n",
              "  </div>\n",
              "  "
            ]
          },
          "metadata": {},
          "execution_count": 67
        }
      ],
      "source": [
        "# Display the tweets_info_df  table\n",
        "twitter_data.head(5)"
      ]
    },
    {
      "cell_type": "code",
      "execution_count": 68,
      "metadata": {
        "colab": {
          "base_uri": "https://localhost:8080/",
          "height": 300
        },
        "id": "tpzvpdajn9im",
        "outputId": "745450fc-508e-441c-c4a8-119730480fce"
      },
      "outputs": [
        {
          "output_type": "execute_result",
          "data": {
            "text/plain": [
              "       retweet_count  favorite_count  followers_count\n",
              "count    2325.000000     2325.000000     2.325000e+03\n",
              "mean     2451.614194     7010.975914     9.401780e+06\n",
              "std      4148.825640    10886.725634     6.735636e+01\n",
              "min         1.000000        0.000000     9.401744e+06\n",
              "25%       493.000000     1219.000000     9.401748e+06\n",
              "50%      1142.000000     3033.000000     9.401775e+06\n",
              "75%      2839.000000     8553.000000     9.401799e+06\n",
              "max     70005.000000   143723.000000     9.402241e+06"
            ],
            "text/html": [
              "\n",
              "  <div id=\"df-f7be77b5-d7cd-4584-a9aa-b65c032ca584\">\n",
              "    <div class=\"colab-df-container\">\n",
              "      <div>\n",
              "<style scoped>\n",
              "    .dataframe tbody tr th:only-of-type {\n",
              "        vertical-align: middle;\n",
              "    }\n",
              "\n",
              "    .dataframe tbody tr th {\n",
              "        vertical-align: top;\n",
              "    }\n",
              "\n",
              "    .dataframe thead th {\n",
              "        text-align: right;\n",
              "    }\n",
              "</style>\n",
              "<table border=\"1\" class=\"dataframe\">\n",
              "  <thead>\n",
              "    <tr style=\"text-align: right;\">\n",
              "      <th></th>\n",
              "      <th>retweet_count</th>\n",
              "      <th>favorite_count</th>\n",
              "      <th>followers_count</th>\n",
              "    </tr>\n",
              "  </thead>\n",
              "  <tbody>\n",
              "    <tr>\n",
              "      <th>count</th>\n",
              "      <td>2325.000000</td>\n",
              "      <td>2325.000000</td>\n",
              "      <td>2.325000e+03</td>\n",
              "    </tr>\n",
              "    <tr>\n",
              "      <th>mean</th>\n",
              "      <td>2451.614194</td>\n",
              "      <td>7010.975914</td>\n",
              "      <td>9.401780e+06</td>\n",
              "    </tr>\n",
              "    <tr>\n",
              "      <th>std</th>\n",
              "      <td>4148.825640</td>\n",
              "      <td>10886.725634</td>\n",
              "      <td>6.735636e+01</td>\n",
              "    </tr>\n",
              "    <tr>\n",
              "      <th>min</th>\n",
              "      <td>1.000000</td>\n",
              "      <td>0.000000</td>\n",
              "      <td>9.401744e+06</td>\n",
              "    </tr>\n",
              "    <tr>\n",
              "      <th>25%</th>\n",
              "      <td>493.000000</td>\n",
              "      <td>1219.000000</td>\n",
              "      <td>9.401748e+06</td>\n",
              "    </tr>\n",
              "    <tr>\n",
              "      <th>50%</th>\n",
              "      <td>1142.000000</td>\n",
              "      <td>3033.000000</td>\n",
              "      <td>9.401775e+06</td>\n",
              "    </tr>\n",
              "    <tr>\n",
              "      <th>75%</th>\n",
              "      <td>2839.000000</td>\n",
              "      <td>8553.000000</td>\n",
              "      <td>9.401799e+06</td>\n",
              "    </tr>\n",
              "    <tr>\n",
              "      <th>max</th>\n",
              "      <td>70005.000000</td>\n",
              "      <td>143723.000000</td>\n",
              "      <td>9.402241e+06</td>\n",
              "    </tr>\n",
              "  </tbody>\n",
              "</table>\n",
              "</div>\n",
              "      <button class=\"colab-df-convert\" onclick=\"convertToInteractive('df-f7be77b5-d7cd-4584-a9aa-b65c032ca584')\"\n",
              "              title=\"Convert this dataframe to an interactive table.\"\n",
              "              style=\"display:none;\">\n",
              "        \n",
              "  <svg xmlns=\"http://www.w3.org/2000/svg\" height=\"24px\"viewBox=\"0 0 24 24\"\n",
              "       width=\"24px\">\n",
              "    <path d=\"M0 0h24v24H0V0z\" fill=\"none\"/>\n",
              "    <path d=\"M18.56 5.44l.94 2.06.94-2.06 2.06-.94-2.06-.94-.94-2.06-.94 2.06-2.06.94zm-11 1L8.5 8.5l.94-2.06 2.06-.94-2.06-.94L8.5 2.5l-.94 2.06-2.06.94zm10 10l.94 2.06.94-2.06 2.06-.94-2.06-.94-.94-2.06-.94 2.06-2.06.94z\"/><path d=\"M17.41 7.96l-1.37-1.37c-.4-.4-.92-.59-1.43-.59-.52 0-1.04.2-1.43.59L10.3 9.45l-7.72 7.72c-.78.78-.78 2.05 0 2.83L4 21.41c.39.39.9.59 1.41.59.51 0 1.02-.2 1.41-.59l7.78-7.78 2.81-2.81c.8-.78.8-2.07 0-2.86zM5.41 20L4 18.59l7.72-7.72 1.47 1.35L5.41 20z\"/>\n",
              "  </svg>\n",
              "      </button>\n",
              "      \n",
              "  <style>\n",
              "    .colab-df-container {\n",
              "      display:flex;\n",
              "      flex-wrap:wrap;\n",
              "      gap: 12px;\n",
              "    }\n",
              "\n",
              "    .colab-df-convert {\n",
              "      background-color: #E8F0FE;\n",
              "      border: none;\n",
              "      border-radius: 50%;\n",
              "      cursor: pointer;\n",
              "      display: none;\n",
              "      fill: #1967D2;\n",
              "      height: 32px;\n",
              "      padding: 0 0 0 0;\n",
              "      width: 32px;\n",
              "    }\n",
              "\n",
              "    .colab-df-convert:hover {\n",
              "      background-color: #E2EBFA;\n",
              "      box-shadow: 0px 1px 2px rgba(60, 64, 67, 0.3), 0px 1px 3px 1px rgba(60, 64, 67, 0.15);\n",
              "      fill: #174EA6;\n",
              "    }\n",
              "\n",
              "    [theme=dark] .colab-df-convert {\n",
              "      background-color: #3B4455;\n",
              "      fill: #D2E3FC;\n",
              "    }\n",
              "\n",
              "    [theme=dark] .colab-df-convert:hover {\n",
              "      background-color: #434B5C;\n",
              "      box-shadow: 0px 1px 3px 1px rgba(0, 0, 0, 0.15);\n",
              "      filter: drop-shadow(0px 1px 2px rgba(0, 0, 0, 0.3));\n",
              "      fill: #FFFFFF;\n",
              "    }\n",
              "  </style>\n",
              "\n",
              "      <script>\n",
              "        const buttonEl =\n",
              "          document.querySelector('#df-f7be77b5-d7cd-4584-a9aa-b65c032ca584 button.colab-df-convert');\n",
              "        buttonEl.style.display =\n",
              "          google.colab.kernel.accessAllowed ? 'block' : 'none';\n",
              "\n",
              "        async function convertToInteractive(key) {\n",
              "          const element = document.querySelector('#df-f7be77b5-d7cd-4584-a9aa-b65c032ca584');\n",
              "          const dataTable =\n",
              "            await google.colab.kernel.invokeFunction('convertToInteractive',\n",
              "                                                     [key], {});\n",
              "          if (!dataTable) return;\n",
              "\n",
              "          const docLinkHtml = 'Like what you see? Visit the ' +\n",
              "            '<a target=\"_blank\" href=https://colab.research.google.com/notebooks/data_table.ipynb>data table notebook</a>'\n",
              "            + ' to learn more about interactive tables.';\n",
              "          element.innerHTML = '';\n",
              "          dataTable['output_type'] = 'display_data';\n",
              "          await google.colab.output.renderOutput(dataTable, element);\n",
              "          const docLink = document.createElement('div');\n",
              "          docLink.innerHTML = docLinkHtml;\n",
              "          element.appendChild(docLink);\n",
              "        }\n",
              "      </script>\n",
              "    </div>\n",
              "  </div>\n",
              "  "
            ]
          },
          "metadata": {},
          "execution_count": 68
        }
      ],
      "source": [
        "#Checking the descriptive statistics \n",
        "twitter_data.describe()"
      ]
    },
    {
      "cell_type": "code",
      "execution_count": 69,
      "metadata": {
        "colab": {
          "base_uri": "https://localhost:8080/"
        },
        "id": "ZCQAaMcpn9mG",
        "outputId": "d9961294-5d77-4ebb-f8da-82825cd84efd"
      },
      "outputs": [
        {
          "output_type": "stream",
          "name": "stdout",
          "text": [
            "<class 'pandas.core.frame.DataFrame'>\n",
            "RangeIndex: 2325 entries, 0 to 2324\n",
            "Data columns (total 4 columns):\n",
            " #   Column           Non-Null Count  Dtype \n",
            "---  ------           --------------  ----- \n",
            " 0   tweet_id         2325 non-null   object\n",
            " 1   retweet_count    2325 non-null   int64 \n",
            " 2   favorite_count   2325 non-null   int64 \n",
            " 3   followers_count  2325 non-null   int64 \n",
            "dtypes: int64(3), object(1)\n",
            "memory usage: 72.8+ KB\n"
          ]
        }
      ],
      "source": [
        "#Checking the datatypes\n",
        "twitter_data.info()"
      ]
    },
    {
      "cell_type": "code",
      "execution_count": 70,
      "metadata": {
        "colab": {
          "base_uri": "https://localhost:8080/"
        },
        "id": "R1R4a657n9ph",
        "outputId": "cf770af0-f8d7-4fb0-aeaf-126ca407dc72"
      },
      "outputs": [
        {
          "output_type": "execute_result",
          "data": {
            "text/plain": [
              "tweet_id           0\n",
              "retweet_count      0\n",
              "favorite_count     0\n",
              "followers_count    0\n",
              "dtype: int64"
            ]
          },
          "metadata": {},
          "execution_count": 70
        }
      ],
      "source": [
        "#Checking missing values\n",
        "twitter_data.isnull().sum()"
      ]
    },
    {
      "cell_type": "code",
      "execution_count": 71,
      "metadata": {
        "colab": {
          "base_uri": "https://localhost:8080/",
          "height": 49
        },
        "id": "GxoUL-Ksn9sa",
        "outputId": "bc68235f-023d-479d-da38-2e139889e29c"
      },
      "outputs": [
        {
          "output_type": "execute_result",
          "data": {
            "text/plain": [
              "Empty DataFrame\n",
              "Columns: [tweet_id, retweet_count, favorite_count, followers_count]\n",
              "Index: []"
            ],
            "text/html": [
              "\n",
              "  <div id=\"df-180fd29d-8080-445a-b2d2-644da45f0741\">\n",
              "    <div class=\"colab-df-container\">\n",
              "      <div>\n",
              "<style scoped>\n",
              "    .dataframe tbody tr th:only-of-type {\n",
              "        vertical-align: middle;\n",
              "    }\n",
              "\n",
              "    .dataframe tbody tr th {\n",
              "        vertical-align: top;\n",
              "    }\n",
              "\n",
              "    .dataframe thead th {\n",
              "        text-align: right;\n",
              "    }\n",
              "</style>\n",
              "<table border=\"1\" class=\"dataframe\">\n",
              "  <thead>\n",
              "    <tr style=\"text-align: right;\">\n",
              "      <th></th>\n",
              "      <th>tweet_id</th>\n",
              "      <th>retweet_count</th>\n",
              "      <th>favorite_count</th>\n",
              "      <th>followers_count</th>\n",
              "    </tr>\n",
              "  </thead>\n",
              "  <tbody>\n",
              "  </tbody>\n",
              "</table>\n",
              "</div>\n",
              "      <button class=\"colab-df-convert\" onclick=\"convertToInteractive('df-180fd29d-8080-445a-b2d2-644da45f0741')\"\n",
              "              title=\"Convert this dataframe to an interactive table.\"\n",
              "              style=\"display:none;\">\n",
              "        \n",
              "  <svg xmlns=\"http://www.w3.org/2000/svg\" height=\"24px\"viewBox=\"0 0 24 24\"\n",
              "       width=\"24px\">\n",
              "    <path d=\"M0 0h24v24H0V0z\" fill=\"none\"/>\n",
              "    <path d=\"M18.56 5.44l.94 2.06.94-2.06 2.06-.94-2.06-.94-.94-2.06-.94 2.06-2.06.94zm-11 1L8.5 8.5l.94-2.06 2.06-.94-2.06-.94L8.5 2.5l-.94 2.06-2.06.94zm10 10l.94 2.06.94-2.06 2.06-.94-2.06-.94-.94-2.06-.94 2.06-2.06.94z\"/><path d=\"M17.41 7.96l-1.37-1.37c-.4-.4-.92-.59-1.43-.59-.52 0-1.04.2-1.43.59L10.3 9.45l-7.72 7.72c-.78.78-.78 2.05 0 2.83L4 21.41c.39.39.9.59 1.41.59.51 0 1.02-.2 1.41-.59l7.78-7.78 2.81-2.81c.8-.78.8-2.07 0-2.86zM5.41 20L4 18.59l7.72-7.72 1.47 1.35L5.41 20z\"/>\n",
              "  </svg>\n",
              "      </button>\n",
              "      \n",
              "  <style>\n",
              "    .colab-df-container {\n",
              "      display:flex;\n",
              "      flex-wrap:wrap;\n",
              "      gap: 12px;\n",
              "    }\n",
              "\n",
              "    .colab-df-convert {\n",
              "      background-color: #E8F0FE;\n",
              "      border: none;\n",
              "      border-radius: 50%;\n",
              "      cursor: pointer;\n",
              "      display: none;\n",
              "      fill: #1967D2;\n",
              "      height: 32px;\n",
              "      padding: 0 0 0 0;\n",
              "      width: 32px;\n",
              "    }\n",
              "\n",
              "    .colab-df-convert:hover {\n",
              "      background-color: #E2EBFA;\n",
              "      box-shadow: 0px 1px 2px rgba(60, 64, 67, 0.3), 0px 1px 3px 1px rgba(60, 64, 67, 0.15);\n",
              "      fill: #174EA6;\n",
              "    }\n",
              "\n",
              "    [theme=dark] .colab-df-convert {\n",
              "      background-color: #3B4455;\n",
              "      fill: #D2E3FC;\n",
              "    }\n",
              "\n",
              "    [theme=dark] .colab-df-convert:hover {\n",
              "      background-color: #434B5C;\n",
              "      box-shadow: 0px 1px 3px 1px rgba(0, 0, 0, 0.15);\n",
              "      filter: drop-shadow(0px 1px 2px rgba(0, 0, 0, 0.3));\n",
              "      fill: #FFFFFF;\n",
              "    }\n",
              "  </style>\n",
              "\n",
              "      <script>\n",
              "        const buttonEl =\n",
              "          document.querySelector('#df-180fd29d-8080-445a-b2d2-644da45f0741 button.colab-df-convert');\n",
              "        buttonEl.style.display =\n",
              "          google.colab.kernel.accessAllowed ? 'block' : 'none';\n",
              "\n",
              "        async function convertToInteractive(key) {\n",
              "          const element = document.querySelector('#df-180fd29d-8080-445a-b2d2-644da45f0741');\n",
              "          const dataTable =\n",
              "            await google.colab.kernel.invokeFunction('convertToInteractive',\n",
              "                                                     [key], {});\n",
              "          if (!dataTable) return;\n",
              "\n",
              "          const docLinkHtml = 'Like what you see? Visit the ' +\n",
              "            '<a target=\"_blank\" href=https://colab.research.google.com/notebooks/data_table.ipynb>data table notebook</a>'\n",
              "            + ' to learn more about interactive tables.';\n",
              "          element.innerHTML = '';\n",
              "          dataTable['output_type'] = 'display_data';\n",
              "          await google.colab.output.renderOutput(dataTable, element);\n",
              "          const docLink = document.createElement('div');\n",
              "          docLink.innerHTML = docLinkHtml;\n",
              "          element.appendChild(docLink);\n",
              "        }\n",
              "      </script>\n",
              "    </div>\n",
              "  </div>\n",
              "  "
            ]
          },
          "metadata": {},
          "execution_count": 71
        }
      ],
      "source": [
        "#Checking for duplicates\n",
        "twitter_data[twitter_data.tweet_id.duplicated()]"
      ]
    },
    {
      "cell_type": "markdown",
      "metadata": {
        "id": "Dc6o2CrU0HkR"
      },
      "source": [
        "Image Prediction Udacity Data (image_prediction)"
      ]
    },
    {
      "cell_type": "code",
      "execution_count": 72,
      "metadata": {
        "colab": {
          "base_uri": "https://localhost:8080/",
          "height": 270
        },
        "id": "jIfIPtZkn9vR",
        "outputId": "6c601337-8f54-4fc3-e37e-653b0a0f7b6c"
      },
      "outputs": [
        {
          "output_type": "execute_result",
          "data": {
            "text/plain": [
              "             tweet_id                                          jpg_url  \\\n",
              "0  666020888022790149  https://pbs.twimg.com/media/CT4udn0WwAA0aMy.jpg   \n",
              "1  666029285002620928  https://pbs.twimg.com/media/CT42GRgUYAA5iDo.jpg   \n",
              "2  666033412701032449  https://pbs.twimg.com/media/CT4521TWwAEvMyu.jpg   \n",
              "3  666044226329800704  https://pbs.twimg.com/media/CT5Dr8HUEAA-lEu.jpg   \n",
              "4  666049248165822465  https://pbs.twimg.com/media/CT5IQmsXIAAKY4A.jpg   \n",
              "\n",
              "   img_num                      p1   p1_conf  p1_dog                  p2  \\\n",
              "0        1  Welsh_springer_spaniel  0.465074    True              collie   \n",
              "1        1                 redbone  0.506826    True  miniature_pinscher   \n",
              "2        1         German_shepherd  0.596461    True            malinois   \n",
              "3        1     Rhodesian_ridgeback  0.408143    True             redbone   \n",
              "4        1      miniature_pinscher  0.560311    True          Rottweiler   \n",
              "\n",
              "    p2_conf  p2_dog                   p3   p3_conf  p3_dog  \n",
              "0  0.156665    True    Shetland_sheepdog  0.061428    True  \n",
              "1  0.074192    True  Rhodesian_ridgeback  0.072010    True  \n",
              "2  0.138584    True           bloodhound  0.116197    True  \n",
              "3  0.360687    True   miniature_pinscher  0.222752    True  \n",
              "4  0.243682    True             Doberman  0.154629    True  "
            ],
            "text/html": [
              "\n",
              "  <div id=\"df-1350e2bd-c1d2-48ef-9634-efda5b046c01\">\n",
              "    <div class=\"colab-df-container\">\n",
              "      <div>\n",
              "<style scoped>\n",
              "    .dataframe tbody tr th:only-of-type {\n",
              "        vertical-align: middle;\n",
              "    }\n",
              "\n",
              "    .dataframe tbody tr th {\n",
              "        vertical-align: top;\n",
              "    }\n",
              "\n",
              "    .dataframe thead th {\n",
              "        text-align: right;\n",
              "    }\n",
              "</style>\n",
              "<table border=\"1\" class=\"dataframe\">\n",
              "  <thead>\n",
              "    <tr style=\"text-align: right;\">\n",
              "      <th></th>\n",
              "      <th>tweet_id</th>\n",
              "      <th>jpg_url</th>\n",
              "      <th>img_num</th>\n",
              "      <th>p1</th>\n",
              "      <th>p1_conf</th>\n",
              "      <th>p1_dog</th>\n",
              "      <th>p2</th>\n",
              "      <th>p2_conf</th>\n",
              "      <th>p2_dog</th>\n",
              "      <th>p3</th>\n",
              "      <th>p3_conf</th>\n",
              "      <th>p3_dog</th>\n",
              "    </tr>\n",
              "  </thead>\n",
              "  <tbody>\n",
              "    <tr>\n",
              "      <th>0</th>\n",
              "      <td>666020888022790149</td>\n",
              "      <td>https://pbs.twimg.com/media/CT4udn0WwAA0aMy.jpg</td>\n",
              "      <td>1</td>\n",
              "      <td>Welsh_springer_spaniel</td>\n",
              "      <td>0.465074</td>\n",
              "      <td>True</td>\n",
              "      <td>collie</td>\n",
              "      <td>0.156665</td>\n",
              "      <td>True</td>\n",
              "      <td>Shetland_sheepdog</td>\n",
              "      <td>0.061428</td>\n",
              "      <td>True</td>\n",
              "    </tr>\n",
              "    <tr>\n",
              "      <th>1</th>\n",
              "      <td>666029285002620928</td>\n",
              "      <td>https://pbs.twimg.com/media/CT42GRgUYAA5iDo.jpg</td>\n",
              "      <td>1</td>\n",
              "      <td>redbone</td>\n",
              "      <td>0.506826</td>\n",
              "      <td>True</td>\n",
              "      <td>miniature_pinscher</td>\n",
              "      <td>0.074192</td>\n",
              "      <td>True</td>\n",
              "      <td>Rhodesian_ridgeback</td>\n",
              "      <td>0.072010</td>\n",
              "      <td>True</td>\n",
              "    </tr>\n",
              "    <tr>\n",
              "      <th>2</th>\n",
              "      <td>666033412701032449</td>\n",
              "      <td>https://pbs.twimg.com/media/CT4521TWwAEvMyu.jpg</td>\n",
              "      <td>1</td>\n",
              "      <td>German_shepherd</td>\n",
              "      <td>0.596461</td>\n",
              "      <td>True</td>\n",
              "      <td>malinois</td>\n",
              "      <td>0.138584</td>\n",
              "      <td>True</td>\n",
              "      <td>bloodhound</td>\n",
              "      <td>0.116197</td>\n",
              "      <td>True</td>\n",
              "    </tr>\n",
              "    <tr>\n",
              "      <th>3</th>\n",
              "      <td>666044226329800704</td>\n",
              "      <td>https://pbs.twimg.com/media/CT5Dr8HUEAA-lEu.jpg</td>\n",
              "      <td>1</td>\n",
              "      <td>Rhodesian_ridgeback</td>\n",
              "      <td>0.408143</td>\n",
              "      <td>True</td>\n",
              "      <td>redbone</td>\n",
              "      <td>0.360687</td>\n",
              "      <td>True</td>\n",
              "      <td>miniature_pinscher</td>\n",
              "      <td>0.222752</td>\n",
              "      <td>True</td>\n",
              "    </tr>\n",
              "    <tr>\n",
              "      <th>4</th>\n",
              "      <td>666049248165822465</td>\n",
              "      <td>https://pbs.twimg.com/media/CT5IQmsXIAAKY4A.jpg</td>\n",
              "      <td>1</td>\n",
              "      <td>miniature_pinscher</td>\n",
              "      <td>0.560311</td>\n",
              "      <td>True</td>\n",
              "      <td>Rottweiler</td>\n",
              "      <td>0.243682</td>\n",
              "      <td>True</td>\n",
              "      <td>Doberman</td>\n",
              "      <td>0.154629</td>\n",
              "      <td>True</td>\n",
              "    </tr>\n",
              "  </tbody>\n",
              "</table>\n",
              "</div>\n",
              "      <button class=\"colab-df-convert\" onclick=\"convertToInteractive('df-1350e2bd-c1d2-48ef-9634-efda5b046c01')\"\n",
              "              title=\"Convert this dataframe to an interactive table.\"\n",
              "              style=\"display:none;\">\n",
              "        \n",
              "  <svg xmlns=\"http://www.w3.org/2000/svg\" height=\"24px\"viewBox=\"0 0 24 24\"\n",
              "       width=\"24px\">\n",
              "    <path d=\"M0 0h24v24H0V0z\" fill=\"none\"/>\n",
              "    <path d=\"M18.56 5.44l.94 2.06.94-2.06 2.06-.94-2.06-.94-.94-2.06-.94 2.06-2.06.94zm-11 1L8.5 8.5l.94-2.06 2.06-.94-2.06-.94L8.5 2.5l-.94 2.06-2.06.94zm10 10l.94 2.06.94-2.06 2.06-.94-2.06-.94-.94-2.06-.94 2.06-2.06.94z\"/><path d=\"M17.41 7.96l-1.37-1.37c-.4-.4-.92-.59-1.43-.59-.52 0-1.04.2-1.43.59L10.3 9.45l-7.72 7.72c-.78.78-.78 2.05 0 2.83L4 21.41c.39.39.9.59 1.41.59.51 0 1.02-.2 1.41-.59l7.78-7.78 2.81-2.81c.8-.78.8-2.07 0-2.86zM5.41 20L4 18.59l7.72-7.72 1.47 1.35L5.41 20z\"/>\n",
              "  </svg>\n",
              "      </button>\n",
              "      \n",
              "  <style>\n",
              "    .colab-df-container {\n",
              "      display:flex;\n",
              "      flex-wrap:wrap;\n",
              "      gap: 12px;\n",
              "    }\n",
              "\n",
              "    .colab-df-convert {\n",
              "      background-color: #E8F0FE;\n",
              "      border: none;\n",
              "      border-radius: 50%;\n",
              "      cursor: pointer;\n",
              "      display: none;\n",
              "      fill: #1967D2;\n",
              "      height: 32px;\n",
              "      padding: 0 0 0 0;\n",
              "      width: 32px;\n",
              "    }\n",
              "\n",
              "    .colab-df-convert:hover {\n",
              "      background-color: #E2EBFA;\n",
              "      box-shadow: 0px 1px 2px rgba(60, 64, 67, 0.3), 0px 1px 3px 1px rgba(60, 64, 67, 0.15);\n",
              "      fill: #174EA6;\n",
              "    }\n",
              "\n",
              "    [theme=dark] .colab-df-convert {\n",
              "      background-color: #3B4455;\n",
              "      fill: #D2E3FC;\n",
              "    }\n",
              "\n",
              "    [theme=dark] .colab-df-convert:hover {\n",
              "      background-color: #434B5C;\n",
              "      box-shadow: 0px 1px 3px 1px rgba(0, 0, 0, 0.15);\n",
              "      filter: drop-shadow(0px 1px 2px rgba(0, 0, 0, 0.3));\n",
              "      fill: #FFFFFF;\n",
              "    }\n",
              "  </style>\n",
              "\n",
              "      <script>\n",
              "        const buttonEl =\n",
              "          document.querySelector('#df-1350e2bd-c1d2-48ef-9634-efda5b046c01 button.colab-df-convert');\n",
              "        buttonEl.style.display =\n",
              "          google.colab.kernel.accessAllowed ? 'block' : 'none';\n",
              "\n",
              "        async function convertToInteractive(key) {\n",
              "          const element = document.querySelector('#df-1350e2bd-c1d2-48ef-9634-efda5b046c01');\n",
              "          const dataTable =\n",
              "            await google.colab.kernel.invokeFunction('convertToInteractive',\n",
              "                                                     [key], {});\n",
              "          if (!dataTable) return;\n",
              "\n",
              "          const docLinkHtml = 'Like what you see? Visit the ' +\n",
              "            '<a target=\"_blank\" href=https://colab.research.google.com/notebooks/data_table.ipynb>data table notebook</a>'\n",
              "            + ' to learn more about interactive tables.';\n",
              "          element.innerHTML = '';\n",
              "          dataTable['output_type'] = 'display_data';\n",
              "          await google.colab.output.renderOutput(dataTable, element);\n",
              "          const docLink = document.createElement('div');\n",
              "          docLink.innerHTML = docLinkHtml;\n",
              "          element.appendChild(docLink);\n",
              "        }\n",
              "      </script>\n",
              "    </div>\n",
              "  </div>\n",
              "  "
            ]
          },
          "metadata": {},
          "execution_count": 72
        }
      ],
      "source": [
        "# Display the image predictions table\n",
        "image_prediction.head(5)"
      ]
    },
    {
      "cell_type": "code",
      "execution_count": 73,
      "metadata": {
        "colab": {
          "base_uri": "https://localhost:8080/"
        },
        "id": "RKyAjEOpn9yV",
        "outputId": "dba97d18-2a92-4776-e41e-3bbb0a2bf978"
      },
      "outputs": [
        {
          "output_type": "stream",
          "name": "stdout",
          "text": [
            "<class 'pandas.core.frame.DataFrame'>\n",
            "RangeIndex: 2075 entries, 0 to 2074\n",
            "Data columns (total 12 columns):\n",
            " #   Column    Non-Null Count  Dtype  \n",
            "---  ------    --------------  -----  \n",
            " 0   tweet_id  2075 non-null   int64  \n",
            " 1   jpg_url   2075 non-null   object \n",
            " 2   img_num   2075 non-null   int64  \n",
            " 3   p1        2075 non-null   object \n",
            " 4   p1_conf   2075 non-null   float64\n",
            " 5   p1_dog    2075 non-null   bool   \n",
            " 6   p2        2075 non-null   object \n",
            " 7   p2_conf   2075 non-null   float64\n",
            " 8   p2_dog    2075 non-null   bool   \n",
            " 9   p3        2075 non-null   object \n",
            " 10  p3_conf   2075 non-null   float64\n",
            " 11  p3_dog    2075 non-null   bool   \n",
            "dtypes: bool(3), float64(3), int64(2), object(4)\n",
            "memory usage: 152.1+ KB\n"
          ]
        }
      ],
      "source": [
        "#Checking the datatypes\n",
        "image_prediction.info()"
      ]
    },
    {
      "cell_type": "code",
      "execution_count": 74,
      "metadata": {
        "colab": {
          "base_uri": "https://localhost:8080/"
        },
        "id": "8Jz1GjYHn908",
        "outputId": "23c5defb-2507-45b2-8bc4-e87f56216583"
      },
      "outputs": [
        {
          "output_type": "execute_result",
          "data": {
            "text/plain": [
              "tweet_id    0\n",
              "jpg_url     0\n",
              "img_num     0\n",
              "p1          0\n",
              "p1_conf     0\n",
              "p1_dog      0\n",
              "p2          0\n",
              "p2_conf     0\n",
              "p2_dog      0\n",
              "p3          0\n",
              "p3_conf     0\n",
              "p3_dog      0\n",
              "dtype: int64"
            ]
          },
          "metadata": {},
          "execution_count": 74
        }
      ],
      "source": [
        "#Checking missing values\n",
        "image_prediction.isnull().sum()"
      ]
    },
    {
      "cell_type": "code",
      "execution_count": 75,
      "metadata": {
        "colab": {
          "base_uri": "https://localhost:8080/",
          "height": 49
        },
        "id": "ErCu6s9rn94L",
        "outputId": "3bc44c34-cac6-447f-bc77-327085baf0a4"
      },
      "outputs": [
        {
          "output_type": "execute_result",
          "data": {
            "text/plain": [
              "Empty DataFrame\n",
              "Columns: [tweet_id, jpg_url, img_num, p1, p1_conf, p1_dog, p2, p2_conf, p2_dog, p3, p3_conf, p3_dog]\n",
              "Index: []"
            ],
            "text/html": [
              "\n",
              "  <div id=\"df-880833ba-498d-4dfc-aaaf-c5ee736b0a93\">\n",
              "    <div class=\"colab-df-container\">\n",
              "      <div>\n",
              "<style scoped>\n",
              "    .dataframe tbody tr th:only-of-type {\n",
              "        vertical-align: middle;\n",
              "    }\n",
              "\n",
              "    .dataframe tbody tr th {\n",
              "        vertical-align: top;\n",
              "    }\n",
              "\n",
              "    .dataframe thead th {\n",
              "        text-align: right;\n",
              "    }\n",
              "</style>\n",
              "<table border=\"1\" class=\"dataframe\">\n",
              "  <thead>\n",
              "    <tr style=\"text-align: right;\">\n",
              "      <th></th>\n",
              "      <th>tweet_id</th>\n",
              "      <th>jpg_url</th>\n",
              "      <th>img_num</th>\n",
              "      <th>p1</th>\n",
              "      <th>p1_conf</th>\n",
              "      <th>p1_dog</th>\n",
              "      <th>p2</th>\n",
              "      <th>p2_conf</th>\n",
              "      <th>p2_dog</th>\n",
              "      <th>p3</th>\n",
              "      <th>p3_conf</th>\n",
              "      <th>p3_dog</th>\n",
              "    </tr>\n",
              "  </thead>\n",
              "  <tbody>\n",
              "  </tbody>\n",
              "</table>\n",
              "</div>\n",
              "      <button class=\"colab-df-convert\" onclick=\"convertToInteractive('df-880833ba-498d-4dfc-aaaf-c5ee736b0a93')\"\n",
              "              title=\"Convert this dataframe to an interactive table.\"\n",
              "              style=\"display:none;\">\n",
              "        \n",
              "  <svg xmlns=\"http://www.w3.org/2000/svg\" height=\"24px\"viewBox=\"0 0 24 24\"\n",
              "       width=\"24px\">\n",
              "    <path d=\"M0 0h24v24H0V0z\" fill=\"none\"/>\n",
              "    <path d=\"M18.56 5.44l.94 2.06.94-2.06 2.06-.94-2.06-.94-.94-2.06-.94 2.06-2.06.94zm-11 1L8.5 8.5l.94-2.06 2.06-.94-2.06-.94L8.5 2.5l-.94 2.06-2.06.94zm10 10l.94 2.06.94-2.06 2.06-.94-2.06-.94-.94-2.06-.94 2.06-2.06.94z\"/><path d=\"M17.41 7.96l-1.37-1.37c-.4-.4-.92-.59-1.43-.59-.52 0-1.04.2-1.43.59L10.3 9.45l-7.72 7.72c-.78.78-.78 2.05 0 2.83L4 21.41c.39.39.9.59 1.41.59.51 0 1.02-.2 1.41-.59l7.78-7.78 2.81-2.81c.8-.78.8-2.07 0-2.86zM5.41 20L4 18.59l7.72-7.72 1.47 1.35L5.41 20z\"/>\n",
              "  </svg>\n",
              "      </button>\n",
              "      \n",
              "  <style>\n",
              "    .colab-df-container {\n",
              "      display:flex;\n",
              "      flex-wrap:wrap;\n",
              "      gap: 12px;\n",
              "    }\n",
              "\n",
              "    .colab-df-convert {\n",
              "      background-color: #E8F0FE;\n",
              "      border: none;\n",
              "      border-radius: 50%;\n",
              "      cursor: pointer;\n",
              "      display: none;\n",
              "      fill: #1967D2;\n",
              "      height: 32px;\n",
              "      padding: 0 0 0 0;\n",
              "      width: 32px;\n",
              "    }\n",
              "\n",
              "    .colab-df-convert:hover {\n",
              "      background-color: #E2EBFA;\n",
              "      box-shadow: 0px 1px 2px rgba(60, 64, 67, 0.3), 0px 1px 3px 1px rgba(60, 64, 67, 0.15);\n",
              "      fill: #174EA6;\n",
              "    }\n",
              "\n",
              "    [theme=dark] .colab-df-convert {\n",
              "      background-color: #3B4455;\n",
              "      fill: #D2E3FC;\n",
              "    }\n",
              "\n",
              "    [theme=dark] .colab-df-convert:hover {\n",
              "      background-color: #434B5C;\n",
              "      box-shadow: 0px 1px 3px 1px rgba(0, 0, 0, 0.15);\n",
              "      filter: drop-shadow(0px 1px 2px rgba(0, 0, 0, 0.3));\n",
              "      fill: #FFFFFF;\n",
              "    }\n",
              "  </style>\n",
              "\n",
              "      <script>\n",
              "        const buttonEl =\n",
              "          document.querySelector('#df-880833ba-498d-4dfc-aaaf-c5ee736b0a93 button.colab-df-convert');\n",
              "        buttonEl.style.display =\n",
              "          google.colab.kernel.accessAllowed ? 'block' : 'none';\n",
              "\n",
              "        async function convertToInteractive(key) {\n",
              "          const element = document.querySelector('#df-880833ba-498d-4dfc-aaaf-c5ee736b0a93');\n",
              "          const dataTable =\n",
              "            await google.colab.kernel.invokeFunction('convertToInteractive',\n",
              "                                                     [key], {});\n",
              "          if (!dataTable) return;\n",
              "\n",
              "          const docLinkHtml = 'Like what you see? Visit the ' +\n",
              "            '<a target=\"_blank\" href=https://colab.research.google.com/notebooks/data_table.ipynb>data table notebook</a>'\n",
              "            + ' to learn more about interactive tables.';\n",
              "          element.innerHTML = '';\n",
              "          dataTable['output_type'] = 'display_data';\n",
              "          await google.colab.output.renderOutput(dataTable, element);\n",
              "          const docLink = document.createElement('div');\n",
              "          docLink.innerHTML = docLinkHtml;\n",
              "          element.appendChild(docLink);\n",
              "        }\n",
              "      </script>\n",
              "    </div>\n",
              "  </div>\n",
              "  "
            ]
          },
          "metadata": {},
          "execution_count": 75
        }
      ],
      "source": [
        "#Checking for duplicates\n",
        "image_prediction[image_prediction.tweet_id.duplicated()]"
      ]
    },
    {
      "cell_type": "markdown",
      "metadata": {
        "id": "mpCsAJ_IwXok"
      },
      "source": [
        "### Conclusion\n",
        "\n",
        "## Quality Issues\n",
        "The four main data quality dimensions are:\n",
        "\n",
        "Completeness: missing data?\n",
        "Validity: does the data make sense?\n",
        "Accuracy: inaccurate data? (wrong data can still show up as valid)\n",
        "Consistency: standardization?\n",
        "\n",
        "**Twitter archive table (twitter_archive)**\n",
        "\n",
        "*   Keep original ratings (no retweets) that have images\n",
        "*   Drop columns not needed for our analysis\n",
        "*   Erroneous datatypes in these columns (tweet_id, rating_denominator,rating_numerator, in_reply_to_status_id, in_reply_to_user_id, timestamp, retweeted_status_id, retweeted_status_user_id, retweeted_status_timestamp, doggo, floofer, pupper, and puppo)\n",
        "*   Missing values in 'name' and dog stages represented as 'None'\n",
        "*   Error in dog names (e.g a,an,actually) are not a dog's name.\n",
        "*   Clean numerator as some line items have very high numerator ratings.\n",
        "\n",
        "**Image prediction table (image_prediction)**\n",
        "*   Erroneous datatype (tweet_id)\n",
        "*   Missing images for some rows of data\n",
        "*   Create new column dog_breed\n",
        "\n",
        "**Twitter API Data (twitter_data)**\n",
        "*   Missing data\n",
        "\n",
        "\n",
        "## Tidiness Issues\n",
        "Three requirements for tidiness:\n",
        "\n",
        "Each variable forms a column\n",
        "Each observation forms a row\n",
        "Each type of observational unit forms a table\n",
        "\n",
        "**Twitter archive table (twitter_archive)**\n",
        "\n",
        "*   The last four columns all relate to the same variable (dogoo, floofer, pupper, puppo)\n",
        "\n",
        "\n",
        "**Image prediction table (image_prediction)**\n",
        "*   Image predictions table should be added to twitter archive table.\n",
        "*   Creating a new dog_breed column using the image prediction data\n",
        "\n",
        "\n",
        "**Twitter API Data (twitter_data)**\n",
        "*   twitter api table columns(retweet_count, favorite_count, followers_count) should be added to twitter archive table.\n"
      ]
    },
    {
      "cell_type": "markdown",
      "metadata": {
        "id": "3Au9ibRV3Ps0"
      },
      "source": [
        "**Step 3: Cleaning data**"
      ]
    },
    {
      "cell_type": "code",
      "execution_count": 76,
      "metadata": {
        "id": "uQak-X7inZuX"
      },
      "outputs": [],
      "source": [
        "# Make a copy of all the tables before proceeding to do cleaning\n",
        "twitter_archive_clean = twitter_archive.copy()\n",
        "image_predictions_clean = image_prediction.copy()\n",
        "tweet_json_clean = twitter_data.copy()"
      ]
    },
    {
      "cell_type": "markdown",
      "source": [
        "Define:\n",
        "Fix \"1. keep original ratings (no retweets) that have images\""
      ],
      "metadata": {
        "id": "f6LqEYanpkDS"
      }
    },
    {
      "cell_type": "markdown",
      "source": [
        "Code:"
      ],
      "metadata": {
        "id": "wKpLDF1WpxKU"
      }
    },
    {
      "cell_type": "code",
      "execution_count": 77,
      "metadata": {
        "id": "AOIVcCKw0lk1"
      },
      "outputs": [],
      "source": [
        "## Delete retweets by filtering the NaN of retweeted_status_user_id\n",
        "twitter_archive_clean = twitter_archive_clean[pd.isnull(twitter_archive_clean['retweeted_status_user_id'])]"
      ]
    },
    {
      "cell_type": "markdown",
      "source": [
        "Test:"
      ],
      "metadata": {
        "id": "C4aQi2BVpzy0"
      }
    },
    {
      "cell_type": "code",
      "source": [
        "print(sum(twitter_archive_clean.retweeted_status_user_id.value_counts())) "
      ],
      "metadata": {
        "colab": {
          "base_uri": "https://localhost:8080/"
        },
        "id": "MnAVNLXcp1TX",
        "outputId": "33550aab-0427-4f99-8f92-5b92f780cbfe"
      },
      "execution_count": 78,
      "outputs": [
        {
          "output_type": "stream",
          "name": "stdout",
          "text": [
            "0\n"
          ]
        }
      ]
    },
    {
      "cell_type": "markdown",
      "source": [
        "Define: # Fix 2. Drop columns not needed for our analysis"
      ],
      "metadata": {
        "id": "ewcQLze6qAef"
      }
    },
    {
      "cell_type": "markdown",
      "source": [
        "Code:"
      ],
      "metadata": {
        "id": "USeb79WGqFlQ"
      }
    },
    {
      "cell_type": "code",
      "execution_count": 79,
      "metadata": {
        "colab": {
          "base_uri": "https://localhost:8080/"
        },
        "id": "7AyA6v3Y0lqm",
        "outputId": "ab1a2d71-fa42-4e7d-9ddc-794961c2832d"
      },
      "outputs": [
        {
          "output_type": "stream",
          "name": "stderr",
          "text": [
            "/usr/local/lib/python3.7/dist-packages/ipykernel_launcher.py:3: FutureWarning: In a future version of pandas all arguments of DataFrame.drop except for the argument 'labels' will be keyword-only\n",
            "  This is separate from the ipykernel package so we can avoid doing imports until\n"
          ]
        }
      ],
      "source": [
        "# Fix 2. Drop columns not needed for our analysis\n",
        "twitter_archive_clean = twitter_archive_clean.drop(['in_reply_to_status_id','in_reply_to_user_id','retweeted_status_id',\n",
        "                                            'retweeted_status_user_id','retweeted_status_timestamp', 'expanded_urls'], 1)"
      ]
    },
    {
      "cell_type": "markdown",
      "source": [
        "Test:"
      ],
      "metadata": {
        "id": "h80x45v2qI4G"
      }
    },
    {
      "cell_type": "code",
      "source": [
        "twitter_archive_clean.info() "
      ],
      "metadata": {
        "colab": {
          "base_uri": "https://localhost:8080/"
        },
        "id": "pto6_je9qJAY",
        "outputId": "ab11e799-3148-4c63-9b9d-003a5636a8f1"
      },
      "execution_count": 80,
      "outputs": [
        {
          "output_type": "stream",
          "name": "stdout",
          "text": [
            "<class 'pandas.core.frame.DataFrame'>\n",
            "Int64Index: 2175 entries, 0 to 2355\n",
            "Data columns (total 11 columns):\n",
            " #   Column              Non-Null Count  Dtype \n",
            "---  ------              --------------  ----- \n",
            " 0   tweet_id            2175 non-null   int64 \n",
            " 1   timestamp           2175 non-null   object\n",
            " 2   source              2175 non-null   object\n",
            " 3   text                2175 non-null   object\n",
            " 4   rating_numerator    2175 non-null   int64 \n",
            " 5   rating_denominator  2175 non-null   int64 \n",
            " 6   name                2175 non-null   object\n",
            " 7   doggo               2175 non-null   object\n",
            " 8   floofer             2175 non-null   object\n",
            " 9   pupper              2175 non-null   object\n",
            " 10  puppo               2175 non-null   object\n",
            "dtypes: int64(3), object(8)\n",
            "memory usage: 203.9+ KB\n"
          ]
        }
      ]
    },
    {
      "cell_type": "markdown",
      "source": [
        "Define: # 3. Erroneous datatype fix"
      ],
      "metadata": {
        "id": "Rxld6HSuqUlp"
      }
    },
    {
      "cell_type": "markdown",
      "source": [
        "Code:"
      ],
      "metadata": {
        "id": "H0c3JmQAqX2J"
      }
    },
    {
      "cell_type": "code",
      "execution_count": 81,
      "metadata": {
        "id": "OS9t954p0ltY"
      },
      "outputs": [],
      "source": [
        "# Convert tweet_id to str from twitter_archive, image_prediction, twitter_data tables.\n",
        "twitter_archive_clean.tweet_id = twitter_archive_clean.tweet_id.astype(str)\n",
        "image_predictions_clean.tweet_id = image_predictions_clean.tweet_id.astype(str)\n",
        "tweet_json_clean.tweet_id = tweet_json_clean.tweet_id.astype(str)\n",
        "\n",
        "# convert timestamp to datetime\n",
        "twitter_archive_clean.timestamp = pd.to_datetime(twitter_archive_clean.timestamp)\n",
        "\n",
        "# convert source to category datatype\n",
        "twitter_archive_clean.source = twitter_archive_clean.source.astype(\"category\")\n"
      ]
    },
    {
      "cell_type": "markdown",
      "source": [
        "Test:"
      ],
      "metadata": {
        "id": "ERNX1J5lqaQG"
      }
    },
    {
      "cell_type": "code",
      "source": [
        "twitter_archive_clean.info()"
      ],
      "metadata": {
        "colab": {
          "base_uri": "https://localhost:8080/"
        },
        "id": "8YtxKOluqbng",
        "outputId": "a953c921-08e4-4043-cc45-c163bc6709a5"
      },
      "execution_count": 82,
      "outputs": [
        {
          "output_type": "stream",
          "name": "stdout",
          "text": [
            "<class 'pandas.core.frame.DataFrame'>\n",
            "Int64Index: 2175 entries, 0 to 2355\n",
            "Data columns (total 11 columns):\n",
            " #   Column              Non-Null Count  Dtype              \n",
            "---  ------              --------------  -----              \n",
            " 0   tweet_id            2175 non-null   object             \n",
            " 1   timestamp           2175 non-null   datetime64[ns, UTC]\n",
            " 2   source              2175 non-null   category           \n",
            " 3   text                2175 non-null   object             \n",
            " 4   rating_numerator    2175 non-null   int64              \n",
            " 5   rating_denominator  2175 non-null   int64              \n",
            " 6   name                2175 non-null   object             \n",
            " 7   doggo               2175 non-null   object             \n",
            " 8   floofer             2175 non-null   object             \n",
            " 9   pupper              2175 non-null   object             \n",
            " 10  puppo               2175 non-null   object             \n",
            "dtypes: category(1), datetime64[ns, UTC](1), int64(2), object(7)\n",
            "memory usage: 189.2+ KB\n"
          ]
        }
      ]
    },
    {
      "cell_type": "code",
      "source": [
        "image_predictions_clean.info()"
      ],
      "metadata": {
        "colab": {
          "base_uri": "https://localhost:8080/"
        },
        "id": "yXoycqN1qiPz",
        "outputId": "446ad586-b514-4221-a465-03519cb965a0"
      },
      "execution_count": 83,
      "outputs": [
        {
          "output_type": "stream",
          "name": "stdout",
          "text": [
            "<class 'pandas.core.frame.DataFrame'>\n",
            "RangeIndex: 2075 entries, 0 to 2074\n",
            "Data columns (total 12 columns):\n",
            " #   Column    Non-Null Count  Dtype  \n",
            "---  ------    --------------  -----  \n",
            " 0   tweet_id  2075 non-null   object \n",
            " 1   jpg_url   2075 non-null   object \n",
            " 2   img_num   2075 non-null   int64  \n",
            " 3   p1        2075 non-null   object \n",
            " 4   p1_conf   2075 non-null   float64\n",
            " 5   p1_dog    2075 non-null   bool   \n",
            " 6   p2        2075 non-null   object \n",
            " 7   p2_conf   2075 non-null   float64\n",
            " 8   p2_dog    2075 non-null   bool   \n",
            " 9   p3        2075 non-null   object \n",
            " 10  p3_conf   2075 non-null   float64\n",
            " 11  p3_dog    2075 non-null   bool   \n",
            "dtypes: bool(3), float64(3), int64(1), object(5)\n",
            "memory usage: 152.1+ KB\n"
          ]
        }
      ]
    },
    {
      "cell_type": "code",
      "source": [
        "tweet_json_clean.info()"
      ],
      "metadata": {
        "colab": {
          "base_uri": "https://localhost:8080/"
        },
        "id": "kEN9zKRaqiTl",
        "outputId": "1314d533-3d75-48c9-c3c3-ba68e7f9eee6"
      },
      "execution_count": 84,
      "outputs": [
        {
          "output_type": "stream",
          "name": "stdout",
          "text": [
            "<class 'pandas.core.frame.DataFrame'>\n",
            "RangeIndex: 2325 entries, 0 to 2324\n",
            "Data columns (total 4 columns):\n",
            " #   Column           Non-Null Count  Dtype \n",
            "---  ------           --------------  ----- \n",
            " 0   tweet_id         2325 non-null   object\n",
            " 1   retweet_count    2325 non-null   int64 \n",
            " 2   favorite_count   2325 non-null   int64 \n",
            " 3   followers_count  2325 non-null   int64 \n",
            "dtypes: int64(3), object(1)\n",
            "memory usage: 72.8+ KB\n"
          ]
        }
      ]
    },
    {
      "cell_type": "markdown",
      "source": [
        "Define: Fix # 4. Incorrect dog names"
      ],
      "metadata": {
        "id": "tum0CBplqngk"
      }
    },
    {
      "cell_type": "markdown",
      "source": [
        "Code:"
      ],
      "metadata": {
        "id": "0CxJeOzHqryA"
      }
    },
    {
      "cell_type": "code",
      "execution_count": 85,
      "metadata": {
        "colab": {
          "base_uri": "https://localhost:8080/"
        },
        "id": "DTB44kyV0lv3",
        "outputId": "6f65f3dd-562d-4adf-af13-5189fb8ef44c"
      },
      "outputs": [
        {
          "output_type": "stream",
          "name": "stderr",
          "text": [
            "/usr/local/lib/python3.7/dist-packages/ipykernel_launcher.py:3: FutureWarning: The default value of regex will change from True to False in a future version.\n",
            "  This is separate from the ipykernel package so we can avoid doing imports until\n"
          ]
        },
        {
          "output_type": "execute_result",
          "data": {
            "text/plain": [
              "None          784\n",
              "Lucy           11\n",
              "Charlie        11\n",
              "Cooper         10\n",
              "Oliver         10\n",
              "             ... \n",
              "Shelby          1\n",
              "Sephie          1\n",
              "Bonaparte       1\n",
              "Wishes          1\n",
              "Christoper      1\n",
              "Name: name, Length: 931, dtype: int64"
            ]
          },
          "metadata": {},
          "execution_count": 85
        }
      ],
      "source": [
        "# 4. Incorrect dog names\n",
        "twitter_archive_clean.name.unique() \n",
        "twitter_archive_clean.name = twitter_archive_clean.name.str.replace('^[a-z]+', 'None')\n",
        "twitter_archive_clean.name.value_counts()"
      ]
    },
    {
      "cell_type": "markdown",
      "source": [
        "Test:"
      ],
      "metadata": {
        "id": "VzJIZAY-qtln"
      }
    },
    {
      "cell_type": "code",
      "source": [
        "twitter_archive_clean.name.value_counts() "
      ],
      "metadata": {
        "id": "q7p50u7uqxxi",
        "colab": {
          "base_uri": "https://localhost:8080/"
        },
        "outputId": "5b4720f4-8fda-4990-9160-cf84daf4f7d3"
      },
      "execution_count": 86,
      "outputs": [
        {
          "output_type": "execute_result",
          "data": {
            "text/plain": [
              "None          784\n",
              "Lucy           11\n",
              "Charlie        11\n",
              "Cooper         10\n",
              "Oliver         10\n",
              "             ... \n",
              "Shelby          1\n",
              "Sephie          1\n",
              "Bonaparte       1\n",
              "Wishes          1\n",
              "Christoper      1\n",
              "Name: name, Length: 931, dtype: int64"
            ]
          },
          "metadata": {},
          "execution_count": 86
        }
      ]
    },
    {
      "cell_type": "markdown",
      "source": [
        "Define: # 5. Missing values in 'name' and dog stages represented as 'None"
      ],
      "metadata": {
        "id": "MovEgr8Dq5aU"
      }
    },
    {
      "cell_type": "markdown",
      "source": [
        "Code:"
      ],
      "metadata": {
        "id": "LDaBdigyq9PU"
      }
    },
    {
      "cell_type": "code",
      "execution_count": 87,
      "metadata": {
        "id": "IyestoLIdocW"
      },
      "outputs": [],
      "source": [
        "# 5. Missing values in 'name' and dog stages represented as 'None\n",
        "twitter_archive_clean['add_all'] = twitter_archive_clean.doggo + twitter_archive_clean.floofer + twitter_archive_clean.pupper + twitter_archive_clean.puppo \n",
        "twitter_archive_clean.add_all.value_counts() \n",
        "\n",
        "# create function to check dog stages\n",
        "def check_stages(archive):\n",
        "    if archive['add_all'].count('None') == 2:\n",
        "        return 'Multiple' #this means it has more than one dog stage\n",
        "    else:\n",
        "        if archive['add_all'].count('doggo') == 1:\n",
        "            return 'Doggo'\n",
        "        elif archive['add_all'].count('floofer') == 1:\n",
        "            return 'Floofer'\n",
        "        elif archive['add_all'].count('pupper') == 1:\n",
        "            return 'Pupper'\n",
        "        elif archive['add_all'].count('puppo') == 1:\n",
        "            return 'Puppo'\n",
        "        else:\n",
        "            return 'None'\n",
        "\n",
        "twitter_archive_clean['dog_stage'] = twitter_archive_clean.apply(check_stages, axis=1)"
      ]
    },
    {
      "cell_type": "markdown",
      "source": [
        "Test:"
      ],
      "metadata": {
        "id": "CySx_lTLq_OT"
      }
    },
    {
      "cell_type": "code",
      "source": [
        "twitter_archive_clean.info()"
      ],
      "metadata": {
        "colab": {
          "base_uri": "https://localhost:8080/"
        },
        "id": "OJ3QUKrQq_-O",
        "outputId": "d9c20929-6088-45ef-a3fd-6a69d6b91d6e"
      },
      "execution_count": 88,
      "outputs": [
        {
          "output_type": "stream",
          "name": "stdout",
          "text": [
            "<class 'pandas.core.frame.DataFrame'>\n",
            "Int64Index: 2175 entries, 0 to 2355\n",
            "Data columns (total 13 columns):\n",
            " #   Column              Non-Null Count  Dtype              \n",
            "---  ------              --------------  -----              \n",
            " 0   tweet_id            2175 non-null   object             \n",
            " 1   timestamp           2175 non-null   datetime64[ns, UTC]\n",
            " 2   source              2175 non-null   category           \n",
            " 3   text                2175 non-null   object             \n",
            " 4   rating_numerator    2175 non-null   int64              \n",
            " 5   rating_denominator  2175 non-null   int64              \n",
            " 6   name                2175 non-null   object             \n",
            " 7   doggo               2175 non-null   object             \n",
            " 8   floofer             2175 non-null   object             \n",
            " 9   pupper              2175 non-null   object             \n",
            " 10  puppo               2175 non-null   object             \n",
            " 11  add_all             2175 non-null   object             \n",
            " 12  dog_stage           2175 non-null   object             \n",
            "dtypes: category(1), datetime64[ns, UTC](1), int64(2), object(9)\n",
            "memory usage: 223.2+ KB\n"
          ]
        }
      ]
    },
    {
      "cell_type": "markdown",
      "source": [
        "Define: # 6. Creating a new dog_breed column using the image prediction data"
      ],
      "metadata": {
        "id": "czPrcalPrMTP"
      }
    },
    {
      "cell_type": "markdown",
      "source": [
        "Code:"
      ],
      "metadata": {
        "id": "IzZ4JtLFrOyO"
      }
    },
    {
      "cell_type": "code",
      "execution_count": 89,
      "metadata": {
        "id": "AjPDzQcQdoif"
      },
      "outputs": [],
      "source": [
        "# 6. Creating a new dog_breed column using the image prediction data\n",
        "# creation list dog_type and confidence_level in order to use in the function image\n",
        "dog_breed = []\n",
        "confidence_level = []\n",
        "\n",
        "def image(image_predictions_clean):\n",
        "    if image_predictions_clean['p1_dog'] == True:\n",
        "        dog_breed.append(image_predictions_clean['p1'])\n",
        "        confidence_level.append(image_predictions_clean['p1_conf'])\n",
        "    elif image_predictions_clean['p2_dog'] == True:\n",
        "        dog_breed.append(image_predictions_clean['p2'])\n",
        "        confidence_level.append(image_predictions_clean['p2_conf'])\n",
        "    elif image_predictions_clean['p3_dog'] == True:\n",
        "        dog_breed.append(image_predictions_clean['p3'])\n",
        "        confidence_level.append(image_predictions_clean['p3_conf'])\n",
        "    else:\n",
        "        dog_breed.append('Error')\n",
        "        confidence_level.append('Error')\n",
        "\n",
        "image_predictions_clean.apply(image, axis=1)\n",
        "\n",
        "#create new columns\n",
        "image_predictions_clean['dog_breed'] = dog_breed\n",
        "image_predictions_clean['confidence_level'] = confidence_level"
      ]
    },
    {
      "cell_type": "markdown",
      "source": [
        "Test:"
      ],
      "metadata": {
        "id": "nKSdNNSvrQXM"
      }
    },
    {
      "cell_type": "code",
      "source": [
        "image_predictions_clean.head()"
      ],
      "metadata": {
        "colab": {
          "base_uri": "https://localhost:8080/",
          "height": 270
        },
        "id": "-4j6qGAdrQAH",
        "outputId": "7af1ae45-a432-468d-9d05-a540fffac4f3"
      },
      "execution_count": 90,
      "outputs": [
        {
          "output_type": "execute_result",
          "data": {
            "text/plain": [
              "             tweet_id                                          jpg_url  \\\n",
              "0  666020888022790149  https://pbs.twimg.com/media/CT4udn0WwAA0aMy.jpg   \n",
              "1  666029285002620928  https://pbs.twimg.com/media/CT42GRgUYAA5iDo.jpg   \n",
              "2  666033412701032449  https://pbs.twimg.com/media/CT4521TWwAEvMyu.jpg   \n",
              "3  666044226329800704  https://pbs.twimg.com/media/CT5Dr8HUEAA-lEu.jpg   \n",
              "4  666049248165822465  https://pbs.twimg.com/media/CT5IQmsXIAAKY4A.jpg   \n",
              "\n",
              "   img_num                      p1   p1_conf  p1_dog                  p2  \\\n",
              "0        1  Welsh_springer_spaniel  0.465074    True              collie   \n",
              "1        1                 redbone  0.506826    True  miniature_pinscher   \n",
              "2        1         German_shepherd  0.596461    True            malinois   \n",
              "3        1     Rhodesian_ridgeback  0.408143    True             redbone   \n",
              "4        1      miniature_pinscher  0.560311    True          Rottweiler   \n",
              "\n",
              "    p2_conf  p2_dog                   p3   p3_conf  p3_dog  \\\n",
              "0  0.156665    True    Shetland_sheepdog  0.061428    True   \n",
              "1  0.074192    True  Rhodesian_ridgeback  0.072010    True   \n",
              "2  0.138584    True           bloodhound  0.116197    True   \n",
              "3  0.360687    True   miniature_pinscher  0.222752    True   \n",
              "4  0.243682    True             Doberman  0.154629    True   \n",
              "\n",
              "                dog_breed confidence_level  \n",
              "0  Welsh_springer_spaniel         0.465074  \n",
              "1                 redbone         0.506826  \n",
              "2         German_shepherd         0.596461  \n",
              "3     Rhodesian_ridgeback         0.408143  \n",
              "4      miniature_pinscher         0.560311  "
            ],
            "text/html": [
              "\n",
              "  <div id=\"df-7c19a1f0-bf50-4927-9ddf-c47c338bc4dc\">\n",
              "    <div class=\"colab-df-container\">\n",
              "      <div>\n",
              "<style scoped>\n",
              "    .dataframe tbody tr th:only-of-type {\n",
              "        vertical-align: middle;\n",
              "    }\n",
              "\n",
              "    .dataframe tbody tr th {\n",
              "        vertical-align: top;\n",
              "    }\n",
              "\n",
              "    .dataframe thead th {\n",
              "        text-align: right;\n",
              "    }\n",
              "</style>\n",
              "<table border=\"1\" class=\"dataframe\">\n",
              "  <thead>\n",
              "    <tr style=\"text-align: right;\">\n",
              "      <th></th>\n",
              "      <th>tweet_id</th>\n",
              "      <th>jpg_url</th>\n",
              "      <th>img_num</th>\n",
              "      <th>p1</th>\n",
              "      <th>p1_conf</th>\n",
              "      <th>p1_dog</th>\n",
              "      <th>p2</th>\n",
              "      <th>p2_conf</th>\n",
              "      <th>p2_dog</th>\n",
              "      <th>p3</th>\n",
              "      <th>p3_conf</th>\n",
              "      <th>p3_dog</th>\n",
              "      <th>dog_breed</th>\n",
              "      <th>confidence_level</th>\n",
              "    </tr>\n",
              "  </thead>\n",
              "  <tbody>\n",
              "    <tr>\n",
              "      <th>0</th>\n",
              "      <td>666020888022790149</td>\n",
              "      <td>https://pbs.twimg.com/media/CT4udn0WwAA0aMy.jpg</td>\n",
              "      <td>1</td>\n",
              "      <td>Welsh_springer_spaniel</td>\n",
              "      <td>0.465074</td>\n",
              "      <td>True</td>\n",
              "      <td>collie</td>\n",
              "      <td>0.156665</td>\n",
              "      <td>True</td>\n",
              "      <td>Shetland_sheepdog</td>\n",
              "      <td>0.061428</td>\n",
              "      <td>True</td>\n",
              "      <td>Welsh_springer_spaniel</td>\n",
              "      <td>0.465074</td>\n",
              "    </tr>\n",
              "    <tr>\n",
              "      <th>1</th>\n",
              "      <td>666029285002620928</td>\n",
              "      <td>https://pbs.twimg.com/media/CT42GRgUYAA5iDo.jpg</td>\n",
              "      <td>1</td>\n",
              "      <td>redbone</td>\n",
              "      <td>0.506826</td>\n",
              "      <td>True</td>\n",
              "      <td>miniature_pinscher</td>\n",
              "      <td>0.074192</td>\n",
              "      <td>True</td>\n",
              "      <td>Rhodesian_ridgeback</td>\n",
              "      <td>0.072010</td>\n",
              "      <td>True</td>\n",
              "      <td>redbone</td>\n",
              "      <td>0.506826</td>\n",
              "    </tr>\n",
              "    <tr>\n",
              "      <th>2</th>\n",
              "      <td>666033412701032449</td>\n",
              "      <td>https://pbs.twimg.com/media/CT4521TWwAEvMyu.jpg</td>\n",
              "      <td>1</td>\n",
              "      <td>German_shepherd</td>\n",
              "      <td>0.596461</td>\n",
              "      <td>True</td>\n",
              "      <td>malinois</td>\n",
              "      <td>0.138584</td>\n",
              "      <td>True</td>\n",
              "      <td>bloodhound</td>\n",
              "      <td>0.116197</td>\n",
              "      <td>True</td>\n",
              "      <td>German_shepherd</td>\n",
              "      <td>0.596461</td>\n",
              "    </tr>\n",
              "    <tr>\n",
              "      <th>3</th>\n",
              "      <td>666044226329800704</td>\n",
              "      <td>https://pbs.twimg.com/media/CT5Dr8HUEAA-lEu.jpg</td>\n",
              "      <td>1</td>\n",
              "      <td>Rhodesian_ridgeback</td>\n",
              "      <td>0.408143</td>\n",
              "      <td>True</td>\n",
              "      <td>redbone</td>\n",
              "      <td>0.360687</td>\n",
              "      <td>True</td>\n",
              "      <td>miniature_pinscher</td>\n",
              "      <td>0.222752</td>\n",
              "      <td>True</td>\n",
              "      <td>Rhodesian_ridgeback</td>\n",
              "      <td>0.408143</td>\n",
              "    </tr>\n",
              "    <tr>\n",
              "      <th>4</th>\n",
              "      <td>666049248165822465</td>\n",
              "      <td>https://pbs.twimg.com/media/CT5IQmsXIAAKY4A.jpg</td>\n",
              "      <td>1</td>\n",
              "      <td>miniature_pinscher</td>\n",
              "      <td>0.560311</td>\n",
              "      <td>True</td>\n",
              "      <td>Rottweiler</td>\n",
              "      <td>0.243682</td>\n",
              "      <td>True</td>\n",
              "      <td>Doberman</td>\n",
              "      <td>0.154629</td>\n",
              "      <td>True</td>\n",
              "      <td>miniature_pinscher</td>\n",
              "      <td>0.560311</td>\n",
              "    </tr>\n",
              "  </tbody>\n",
              "</table>\n",
              "</div>\n",
              "      <button class=\"colab-df-convert\" onclick=\"convertToInteractive('df-7c19a1f0-bf50-4927-9ddf-c47c338bc4dc')\"\n",
              "              title=\"Convert this dataframe to an interactive table.\"\n",
              "              style=\"display:none;\">\n",
              "        \n",
              "  <svg xmlns=\"http://www.w3.org/2000/svg\" height=\"24px\"viewBox=\"0 0 24 24\"\n",
              "       width=\"24px\">\n",
              "    <path d=\"M0 0h24v24H0V0z\" fill=\"none\"/>\n",
              "    <path d=\"M18.56 5.44l.94 2.06.94-2.06 2.06-.94-2.06-.94-.94-2.06-.94 2.06-2.06.94zm-11 1L8.5 8.5l.94-2.06 2.06-.94-2.06-.94L8.5 2.5l-.94 2.06-2.06.94zm10 10l.94 2.06.94-2.06 2.06-.94-2.06-.94-.94-2.06-.94 2.06-2.06.94z\"/><path d=\"M17.41 7.96l-1.37-1.37c-.4-.4-.92-.59-1.43-.59-.52 0-1.04.2-1.43.59L10.3 9.45l-7.72 7.72c-.78.78-.78 2.05 0 2.83L4 21.41c.39.39.9.59 1.41.59.51 0 1.02-.2 1.41-.59l7.78-7.78 2.81-2.81c.8-.78.8-2.07 0-2.86zM5.41 20L4 18.59l7.72-7.72 1.47 1.35L5.41 20z\"/>\n",
              "  </svg>\n",
              "      </button>\n",
              "      \n",
              "  <style>\n",
              "    .colab-df-container {\n",
              "      display:flex;\n",
              "      flex-wrap:wrap;\n",
              "      gap: 12px;\n",
              "    }\n",
              "\n",
              "    .colab-df-convert {\n",
              "      background-color: #E8F0FE;\n",
              "      border: none;\n",
              "      border-radius: 50%;\n",
              "      cursor: pointer;\n",
              "      display: none;\n",
              "      fill: #1967D2;\n",
              "      height: 32px;\n",
              "      padding: 0 0 0 0;\n",
              "      width: 32px;\n",
              "    }\n",
              "\n",
              "    .colab-df-convert:hover {\n",
              "      background-color: #E2EBFA;\n",
              "      box-shadow: 0px 1px 2px rgba(60, 64, 67, 0.3), 0px 1px 3px 1px rgba(60, 64, 67, 0.15);\n",
              "      fill: #174EA6;\n",
              "    }\n",
              "\n",
              "    [theme=dark] .colab-df-convert {\n",
              "      background-color: #3B4455;\n",
              "      fill: #D2E3FC;\n",
              "    }\n",
              "\n",
              "    [theme=dark] .colab-df-convert:hover {\n",
              "      background-color: #434B5C;\n",
              "      box-shadow: 0px 1px 3px 1px rgba(0, 0, 0, 0.15);\n",
              "      filter: drop-shadow(0px 1px 2px rgba(0, 0, 0, 0.3));\n",
              "      fill: #FFFFFF;\n",
              "    }\n",
              "  </style>\n",
              "\n",
              "      <script>\n",
              "        const buttonEl =\n",
              "          document.querySelector('#df-7c19a1f0-bf50-4927-9ddf-c47c338bc4dc button.colab-df-convert');\n",
              "        buttonEl.style.display =\n",
              "          google.colab.kernel.accessAllowed ? 'block' : 'none';\n",
              "\n",
              "        async function convertToInteractive(key) {\n",
              "          const element = document.querySelector('#df-7c19a1f0-bf50-4927-9ddf-c47c338bc4dc');\n",
              "          const dataTable =\n",
              "            await google.colab.kernel.invokeFunction('convertToInteractive',\n",
              "                                                     [key], {});\n",
              "          if (!dataTable) return;\n",
              "\n",
              "          const docLinkHtml = 'Like what you see? Visit the ' +\n",
              "            '<a target=\"_blank\" href=https://colab.research.google.com/notebooks/data_table.ipynb>data table notebook</a>'\n",
              "            + ' to learn more about interactive tables.';\n",
              "          element.innerHTML = '';\n",
              "          dataTable['output_type'] = 'display_data';\n",
              "          await google.colab.output.renderOutput(dataTable, element);\n",
              "          const docLink = document.createElement('div');\n",
              "          docLink.innerHTML = docLinkHtml;\n",
              "          element.appendChild(docLink);\n",
              "        }\n",
              "      </script>\n",
              "    </div>\n",
              "  </div>\n",
              "  "
            ]
          },
          "metadata": {},
          "execution_count": 90
        }
      ]
    },
    {
      "cell_type": "markdown",
      "source": [
        "Define: # 7. drop tweets with no images"
      ],
      "metadata": {
        "id": "F2j0GXT0rbQX"
      }
    },
    {
      "cell_type": "markdown",
      "source": [
        "Code:"
      ],
      "metadata": {
        "id": "XbfPcjNvreMD"
      }
    },
    {
      "cell_type": "code",
      "execution_count": 91,
      "metadata": {
        "id": "WMk5lJiidol4"
      },
      "outputs": [],
      "source": [
        "# 7. drop tweets with no images\n",
        "twitter_archive_clean.dropna(axis = 0, inplace=True)"
      ]
    },
    {
      "cell_type": "markdown",
      "source": [
        "Test:"
      ],
      "metadata": {
        "id": "vP_0vjkKrgoM"
      }
    },
    {
      "cell_type": "code",
      "source": [
        "twitter_archive_clean.info()"
      ],
      "metadata": {
        "colab": {
          "base_uri": "https://localhost:8080/"
        },
        "id": "8yQjamSlrh-P",
        "outputId": "3d7c75d2-c248-43d7-e091-b4c1dc242481"
      },
      "execution_count": 92,
      "outputs": [
        {
          "output_type": "stream",
          "name": "stdout",
          "text": [
            "<class 'pandas.core.frame.DataFrame'>\n",
            "Int64Index: 2175 entries, 0 to 2355\n",
            "Data columns (total 13 columns):\n",
            " #   Column              Non-Null Count  Dtype              \n",
            "---  ------              --------------  -----              \n",
            " 0   tweet_id            2175 non-null   object             \n",
            " 1   timestamp           2175 non-null   datetime64[ns, UTC]\n",
            " 2   source              2175 non-null   category           \n",
            " 3   text                2175 non-null   object             \n",
            " 4   rating_numerator    2175 non-null   int64              \n",
            " 5   rating_denominator  2175 non-null   int64              \n",
            " 6   name                2175 non-null   object             \n",
            " 7   doggo               2175 non-null   object             \n",
            " 8   floofer             2175 non-null   object             \n",
            " 9   pupper              2175 non-null   object             \n",
            " 10  puppo               2175 non-null   object             \n",
            " 11  add_all             2175 non-null   object             \n",
            " 12  dog_stage           2175 non-null   object             \n",
            "dtypes: category(1), datetime64[ns, UTC](1), int64(2), object(9)\n",
            "memory usage: 223.2+ KB\n"
          ]
        }
      ]
    },
    {
      "cell_type": "markdown",
      "source": [
        "Define: # 8. Clean Numerator. As some line items have very high numerator ratings."
      ],
      "metadata": {
        "id": "Ho9n_uGYrspb"
      }
    },
    {
      "cell_type": "markdown",
      "source": [
        "Code:"
      ],
      "metadata": {
        "id": "sEvbh4ZrrvB4"
      }
    },
    {
      "cell_type": "code",
      "source": [
        "# 8. Clean Numerator. As some line items have very high numerator ratings.\n",
        "# select row with rating_numerator >= 15\n",
        "numerator = twitter_archive_clean[twitter_archive_clean['rating_numerator'] >= 15]\n",
        "# delect row selected with rating_numerator >= 15\n",
        "twitter_archive_clean = twitter_archive_clean.drop(numerator.index, axis=0)"
      ],
      "metadata": {
        "id": "RipdEyh1foDS"
      },
      "execution_count": 93,
      "outputs": []
    },
    {
      "cell_type": "markdown",
      "source": [
        "Test:"
      ],
      "metadata": {
        "id": "0MakecU6rwm1"
      }
    },
    {
      "cell_type": "code",
      "source": [
        "twitter_archive_clean[twitter_archive_clean['rating_numerator'] >= 15].count()"
      ],
      "metadata": {
        "colab": {
          "base_uri": "https://localhost:8080/"
        },
        "id": "u63oORXbryOW",
        "outputId": "1eaeaadc-f963-496c-bd77-0878cb8b7f5a"
      },
      "execution_count": 94,
      "outputs": [
        {
          "output_type": "execute_result",
          "data": {
            "text/plain": [
              "tweet_id              0\n",
              "timestamp             0\n",
              "source                0\n",
              "text                  0\n",
              "rating_numerator      0\n",
              "rating_denominator    0\n",
              "name                  0\n",
              "doggo                 0\n",
              "floofer               0\n",
              "pupper                0\n",
              "puppo                 0\n",
              "add_all               0\n",
              "dog_stage             0\n",
              "dtype: int64"
            ]
          },
          "metadata": {},
          "execution_count": 94
        }
      ]
    },
    {
      "cell_type": "markdown",
      "source": [
        "Define: # 9. Move twitter api table and image prediction table to twitter archive table."
      ],
      "metadata": {
        "id": "I8We40-Hsvxs"
      }
    },
    {
      "cell_type": "markdown",
      "source": [
        "Code:"
      ],
      "metadata": {
        "id": "DpSk2Cgcs1O9"
      }
    },
    {
      "cell_type": "code",
      "source": [
        "# 9. Move twitter api table and image prediction table to twitter archive table.\n",
        "twitter_archive_clean = pd.merge(left=twitter_archive_clean, right=tweet_json_clean, how='left', on='tweet_id')\n",
        "twitter_archive_clean = pd.merge(left=twitter_archive_clean, right=image_predictions_clean, how='left', on='tweet_id')"
      ],
      "metadata": {
        "id": "QcXB00h2ukhY"
      },
      "execution_count": 95,
      "outputs": []
    },
    {
      "cell_type": "markdown",
      "source": [
        "Test:"
      ],
      "metadata": {
        "id": "P8_c28iVs21o"
      }
    },
    {
      "cell_type": "code",
      "execution_count": 96,
      "metadata": {
        "colab": {
          "base_uri": "https://localhost:8080/"
        },
        "id": "vT1cQS76dofZ",
        "outputId": "8e3e7df0-740f-4957-a60c-5723e91ee3d7"
      },
      "outputs": [
        {
          "output_type": "stream",
          "name": "stdout",
          "text": [
            "<class 'pandas.core.frame.DataFrame'>\n",
            "Int64Index: 2149 entries, 0 to 2148\n",
            "Data columns (total 29 columns):\n",
            " #   Column              Non-Null Count  Dtype              \n",
            "---  ------              --------------  -----              \n",
            " 0   tweet_id            2149 non-null   object             \n",
            " 1   timestamp           2149 non-null   datetime64[ns, UTC]\n",
            " 2   source              2149 non-null   category           \n",
            " 3   text                2149 non-null   object             \n",
            " 4   rating_numerator    2149 non-null   int64              \n",
            " 5   rating_denominator  2149 non-null   int64              \n",
            " 6   name                2149 non-null   object             \n",
            " 7   doggo               2149 non-null   object             \n",
            " 8   floofer             2149 non-null   object             \n",
            " 9   pupper              2149 non-null   object             \n",
            " 10  puppo               2149 non-null   object             \n",
            " 11  add_all             2149 non-null   object             \n",
            " 12  dog_stage           2149 non-null   object             \n",
            " 13  retweet_count       2141 non-null   float64            \n",
            " 14  favorite_count      2141 non-null   float64            \n",
            " 15  followers_count     2141 non-null   float64            \n",
            " 16  jpg_url             1975 non-null   object             \n",
            " 17  img_num             1975 non-null   float64            \n",
            " 18  p1                  1975 non-null   object             \n",
            " 19  p1_conf             1975 non-null   float64            \n",
            " 20  p1_dog              1975 non-null   object             \n",
            " 21  p2                  1975 non-null   object             \n",
            " 22  p2_conf             1975 non-null   float64            \n",
            " 23  p2_dog              1975 non-null   object             \n",
            " 24  p3                  1975 non-null   object             \n",
            " 25  p3_conf             1975 non-null   float64            \n",
            " 26  p3_dog              1975 non-null   object             \n",
            " 27  dog_breed           1975 non-null   object             \n",
            " 28  confidence_level    1975 non-null   object             \n",
            "dtypes: category(1), datetime64[ns, UTC](1), float64(7), int64(2), object(18)\n",
            "memory usage: 489.2+ KB\n"
          ]
        }
      ],
      "source": [
        "# test result\n",
        "twitter_archive_clean.info() "
      ]
    },
    {
      "cell_type": "markdown",
      "metadata": {
        "id": "ueAkSKVvl6Y3"
      },
      "source": [
        "Step 4: Storing Data"
      ]
    },
    {
      "cell_type": "code",
      "execution_count": 97,
      "metadata": {
        "id": "SwLxFJUVdoog"
      },
      "outputs": [],
      "source": [
        "# Save cleaned data\n",
        "twitter_archive_clean.to_csv('twitter_archive_master.csv', index=False) "
      ]
    },
    {
      "cell_type": "markdown",
      "metadata": {
        "id": "qdfh7jMlmCHz"
      },
      "source": [
        "Step 5: Analyzing and Visualizing Data\n"
      ]
    },
    {
      "cell_type": "markdown",
      "metadata": {
        "id": "_zQ-oKZxmWaT"
      },
      "source": [
        "**Analysis**\n",
        "\n",
        "For this section, i will look into at least three (3) insights and one (1) visualization.\n",
        "\n",
        "Here are the questions that i will be doing a deep dive into:\n",
        "\n",
        "*   Visualizing the most popular dog breed?\n",
        "*   Visualizing the most popular dog names?\n",
        "*   Which is the common stage?\n",
        "*   Most used Twitter Source?"
      ]
    },
    {
      "cell_type": "markdown",
      "metadata": {
        "id": "Gl4EW3hGmybH"
      },
      "source": [
        "**Question 1: Visualising the most popular dog breed**"
      ]
    },
    {
      "cell_type": "code",
      "execution_count": 98,
      "metadata": {
        "id": "gbuMXgQElhVz",
        "colab": {
          "base_uri": "https://localhost:8080/"
        },
        "outputId": "5d2e9a0b-0cfd-4783-9caf-ee6a77eaaeae"
      },
      "outputs": [
        {
          "output_type": "execute_result",
          "data": {
            "text/plain": [
              "Error                 305\n",
              "golden_retriever      155\n",
              "Labrador_retriever    105\n",
              "Pembroke               95\n",
              "Chihuahua              91\n",
              "                     ... \n",
              "Scotch_terrier          1\n",
              "EntleBucher             1\n",
              "Japanese_spaniel        1\n",
              "standard_schnauzer      1\n",
              "Irish_wolfhound         1\n",
              "Name: dog_breed, Length: 113, dtype: int64"
            ]
          },
          "metadata": {},
          "execution_count": 98
        }
      ],
      "source": [
        "twitter_archive_clean['dog_breed'].value_counts()\n",
        "\n",
        "#The most popular dog breed is a golden retriever, with a labrador retriever coming in as the second most popular breed."
      ]
    },
    {
      "cell_type": "code",
      "execution_count": 99,
      "metadata": {
        "id": "HwASFiKilhYq",
        "colab": {
          "base_uri": "https://localhost:8080/",
          "height": 295
        },
        "outputId": "51fbd0c6-ba35-4038-ee85-dac5b51e3771"
      },
      "outputs": [
        {
          "output_type": "display_data",
          "data": {
            "text/plain": [
              "<Figure size 432x288 with 1 Axes>"
            ],
            "image/png": "[encoded data removed]"
          },
          "metadata": {
            "needs_background": "light"
          }
        }
      ],
      "source": [
        "# Histogram to visualize dog breeds\n",
        "dog_breed = twitter_archive_clean.groupby('dog_breed').filter(lambda x: len(x) >= 25)\n",
        "\n",
        "dog_breed['dog_breed'].value_counts().plot(kind = 'barh')\n",
        "plt.title('Most Rated Dog Breed')\n",
        "plt.xlabel('Count')\n",
        "plt.ylabel('Breed of dog');"
      ]
    },
    {
      "cell_type": "markdown",
      "metadata": {
        "id": "dLX39Kl_nbr8"
      },
      "source": [
        "**Question 2: Visualizing the most popular dog names**"
      ]
    },
    {
      "cell_type": "code",
      "execution_count": 100,
      "metadata": {
        "id": "QMGkw-OcnKqw",
        "colab": {
          "base_uri": "https://localhost:8080/"
        },
        "outputId": "0ed9f2e6-a1e1-488a-d66c-c935ba37e032"
      },
      "outputs": [
        {
          "output_type": "execute_result",
          "data": {
            "text/plain": [
              "None          763\n",
              "Lucy           11\n",
              "Charlie        11\n",
              "Cooper         10\n",
              "Oliver         10\n",
              "             ... \n",
              "Shiloh          1\n",
              "Gustav          1\n",
              "Arlen           1\n",
              "Lenox           1\n",
              "Christoper      1\n",
              "Name: name, Length: 929, dtype: int64"
            ]
          },
          "metadata": {},
          "execution_count": 100
        }
      ],
      "source": [
        "twitter_archive_clean.name.value_counts()\n",
        "#The most popular dog name is Lucy, followed by Charlie "
      ]
    },
    {
      "cell_type": "code",
      "execution_count": 101,
      "metadata": {
        "id": "vJL0D6WElhb1",
        "colab": {
          "base_uri": "https://localhost:8080/",
          "height": 504
        },
        "outputId": "ed5ed8bf-e100-422f-a8ce-79d3dba8487c"
      },
      "outputs": [
        {
          "output_type": "display_data",
          "data": {
            "text/plain": [
              "<Figure size 720x504 with 1 Axes>"
            ],
            "image/png": "[encoded data removed]"
          },
          "metadata": {
            "needs_background": "light"
          }
        }
      ],
      "source": [
        "name = twitter_archive_clean.name.value_counts()[1:10] \n",
        "\n",
        "#plot\n",
        "g_bar = name.plot.bar(color = 'blue', fontsize = 13)\n",
        "\n",
        "#figure size(width, height)\n",
        "g_bar.figure.set_size_inches(10, 7);\n",
        "\n",
        "#Add labels\n",
        "plt.title('Most popular Dog name', color = 'black', fontsize = '13')\n",
        "plt.xlabel('Name', color = 'black', fontsize = '13')\n",
        "plt.ylabel('Number of occurrence', color = 'black', fontsize = '13');"
      ]
    },
    {
      "cell_type": "markdown",
      "metadata": {
        "id": "HUy3dYZucf9w"
      },
      "source": [
        "**Question 3: Which is the common stage?**"
      ]
    },
    {
      "cell_type": "code",
      "source": [
        "twitter_archive_clean['dog_stage'].value_counts()\n",
        "#Most dogs are classified in the 'Pupper' stage."
      ],
      "metadata": {
        "colab": {
          "base_uri": "https://localhost:8080/"
        },
        "id": "KDaFghbDcype",
        "outputId": "d7141c63-fbad-47eb-ecf3-b0fc749f76d0"
      },
      "execution_count": 102,
      "outputs": [
        {
          "output_type": "execute_result",
          "data": {
            "text/plain": [
              "None        1806\n",
              "Pupper       223\n",
              "Doggo         75\n",
              "Puppo         24\n",
              "Multiple      12\n",
              "Floofer        9\n",
              "Name: dog_stage, dtype: int64"
            ]
          },
          "metadata": {},
          "execution_count": 102
        }
      ]
    },
    {
      "cell_type": "code",
      "execution_count": 103,
      "metadata": {
        "id": "aHErdGnknKtk",
        "colab": {
          "base_uri": "https://localhost:8080/",
          "height": 300
        },
        "outputId": "28a4da90-ed1f-47f3-f185-e12d4e243056"
      },
      "outputs": [
        {
          "output_type": "display_data",
          "data": {
            "text/plain": [
              "<Figure size 432x288 with 1 Axes>"
            ],
            "image/png": "[encoded data removed]"
          },
          "metadata": {
            "needs_background": "light"
          }
        }
      ],
      "source": [
        "# plot dog_stage\n",
        "stages_dog = twitter_archive_clean['dog_stage'].value_counts()[1:5].index\n",
        "sns.countplot(data = twitter_archive_clean, x = 'dog_stage', order = stages_dog)\n",
        "plt.xlabel('Dog Stage', fontsize=12)\n",
        "plt.ylabel('Count', fontsize=12)\n",
        "plt.title('The Four Stages',fontsize=16)\n",
        "plt.savefig('common-stage.png');"
      ]
    },
    {
      "cell_type": "markdown",
      "source": [
        "**Question 4: What is the rating distribution?**"
      ],
      "metadata": {
        "id": "d5G2xOszdUxg"
      }
    },
    {
      "cell_type": "code",
      "source": [
        "twitter_archive_clean['rating_numerator'].value_counts().sort_index(ascending = False)"
      ],
      "metadata": {
        "colab": {
          "base_uri": "https://localhost:8080/"
        },
        "id": "AADHS30wtMvn",
        "outputId": "8c802597-43cd-4869-edea-b561b8c12edd"
      },
      "execution_count": 104,
      "outputs": [
        {
          "output_type": "execute_result",
          "data": {
            "text/plain": [
              "14     43\n",
              "13    307\n",
              "12    500\n",
              "11    426\n",
              "10    442\n",
              "9     156\n",
              "8      98\n",
              "7      54\n",
              "6      32\n",
              "5      36\n",
              "4      17\n",
              "3      19\n",
              "2       9\n",
              "1       8\n",
              "0       2\n",
              "Name: rating_numerator, dtype: int64"
            ]
          },
          "metadata": {},
          "execution_count": 104
        }
      ]
    },
    {
      "cell_type": "code",
      "execution_count": 105,
      "metadata": {
        "id": "xt4vG58znKwV",
        "colab": {
          "base_uri": "https://localhost:8080/",
          "height": 300
        },
        "outputId": "212124ba-fb99-454a-c412-55161f69d8e5"
      },
      "outputs": [
        {
          "output_type": "display_data",
          "data": {
            "text/plain": [
              "<Figure size 432x288 with 1 Axes>"
            ],
            "image/png": "[encoded data removed]"
          },
          "metadata": {
            "needs_background": "light"
          }
        }
      ],
      "source": [
        "twitter_archive_clean['rating_numerator'].plot(kind = 'hist', bins = 15)\n",
        "\n",
        "plt.xlim(0, 15)\n",
        "plt.ylabel('Number of Tweets', fontsize = 12)\n",
        "plt.xlabel('Rating', fontsize = 12)\n",
        "plt.title('Distribution of Ratings', fontsize = 16)\n",
        "plt.savefig('Raiting.png');"
      ]
    }
  ],
  "metadata": {
    "colab": {
      "collapsed_sections": [],
      "provenance": []
    },
    "kernelspec": {
      "display_name": "Python 3",
      "name": "python3"
    },
    "language_info": {
      "name": "python"
    }
  },
  "nbformat": 4,
  "nbformat_minor": 0
}